{
 "cells": [
  {
   "cell_type": "code",
   "execution_count": 2,
   "metadata": {},
   "outputs": [
    {
     "data": {
      "text/plain": [
       "'C:\\\\Users\\\\m118954.CORPAU'"
      ]
     },
     "execution_count": 2,
     "metadata": {},
     "output_type": "execute_result"
    }
   ],
   "source": [
    "import os\n",
    "os.getcwd()"
   ]
  },
  {
   "cell_type": "code",
   "execution_count": 6,
   "metadata": {},
   "outputs": [],
   "source": [
    "os.chdir('H:/SharedLaptop')"
   ]
  },
  {
   "cell_type": "code",
   "execution_count": 7,
   "metadata": {},
   "outputs": [
    {
     "data": {
      "text/plain": [
       "'H:\\\\SharedLaptop'"
      ]
     },
     "execution_count": 7,
     "metadata": {},
     "output_type": "execute_result"
    }
   ],
   "source": [
    "os.getcwd()"
   ]
  },
  {
   "cell_type": "code",
   "execution_count": 8,
   "metadata": {},
   "outputs": [
    {
     "data": {
      "text/plain": [
       "['AB Stuff',\n",
       " 'Add In',\n",
       " 'Bd PerfControl Team_20191012.xlsx',\n",
       " 'Brazilian Jiu-jitsu.pptx',\n",
       " 'Capstone',\n",
       " 'Capstone_EDX',\n",
       " 'CBA.pdf',\n",
       " 'DataScience.pdf',\n",
       " 'DS',\n",
       " 'DSProject',\n",
       " 'EDX',\n",
       " 'FY18 Tax',\n",
       " 'github',\n",
       " 'Motivate',\n",
       " 'Offline',\n",
       " 'Play around with python.ipynb',\n",
       " 'Pribadi',\n",
       " 'Production',\n",
       " 'Projects',\n",
       " 'R-3.5.1',\n",
       " 'Rafalab',\n",
       " 'RStudio',\n",
       " 'SQLAExport.txt',\n",
       " 'SQLs',\n",
       " 'Test.pdf']"
      ]
     },
     "execution_count": 8,
     "metadata": {},
     "output_type": "execute_result"
    }
   ],
   "source": [
    "os.listdir()"
   ]
  },
  {
   "cell_type": "code",
   "execution_count": 14,
   "metadata": {},
   "outputs": [],
   "source": [
    "# pick up all offset files\n",
    "import os\n",
    "import glob\n",
    "os.chdir(\"C:/Users/m118954.CORPAU\")\n",
    "extension = 'ipynb'\n",
    "offset_file = [i for i in glob.glob('*.{}'.format(extension))]"
   ]
  },
  {
   "cell_type": "code",
   "execution_count": 15,
   "metadata": {},
   "outputs": [
    {
     "data": {
      "text/plain": [
       "['Boston Dataset.ipynb',\n",
       " 'decision tree.ipynb',\n",
       " 'Feature_Selection.ipynb',\n",
       " 'Iris_test.ipynb',\n",
       " 'kernel.ipynb',\n",
       " 'MachineLearning.ipynb',\n",
       " 'My Own _ Digit Datasets.ipynb',\n",
       " 'myplayground for titanic.ipynb',\n",
       " 'Other.ipynb',\n",
       " 'plot_digits_classification.ipynb',\n",
       " 'Property.ipynb',\n",
       " 'PropertyModel.ipynb',\n",
       " 'Python Playground.ipynb',\n",
       " 'RC_FINANCIAL_Fcast_MODEL.ipynb',\n",
       " 'Scikitlearn Python.ipynb',\n",
       " 'ScikitLearn.ipynb',\n",
       " 'Seaborn.ipynb',\n",
       " 'Stocks.ipynb',\n",
       " 'tensorflow mnist.ipynb',\n",
       " 'testimage.ipynb',\n",
       " 'testingworking.ipynb',\n",
       " 'test_digits.ipynb',\n",
       " 'test_seaborn.ipynb',\n",
       " 'Titanic Using Python.ipynb',\n",
       " 'Titanic_Test.ipynb',\n",
       " 'Untitled.ipynb']"
      ]
     },
     "execution_count": 15,
     "metadata": {},
     "output_type": "execute_result"
    }
   ],
   "source": [
    "offset_file"
   ]
  },
  {
   "cell_type": "code",
   "execution_count": null,
   "metadata": {},
   "outputs": [],
   "source": [
    "import shutil\n",
    "# Move a file from the directory d1 to d2\n",
    "shutil.move('/Users/billy/d1/xfile.txt', '/Users/billy/d2/xfile.txt')"
   ]
  }
 ],
 "metadata": {
  "kernelspec": {
   "display_name": "Python 3",
   "language": "python",
   "name": "python3"
  },
  "language_info": {
   "codemirror_mode": {
    "name": "ipython",
    "version": 3
   },
   "file_extension": ".py",
   "mimetype": "text/x-python",
   "name": "python",
   "nbconvert_exporter": "python",
   "pygments_lexer": "ipython3",
   "version": "3.7.2"
  }
 },
 "nbformat": 4,
 "nbformat_minor": 2
}
