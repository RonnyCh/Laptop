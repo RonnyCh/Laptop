{
 "cells": [
  {
   "cell_type": "code",
   "execution_count": 1,
   "metadata": {},
   "outputs": [],
   "source": [
    "from sklearn import datasets"
   ]
  },
  {
   "cell_type": "code",
   "execution_count": 2,
   "metadata": {},
   "outputs": [],
   "source": [
    "digits = datasets.load_digits()"
   ]
  },
  {
   "cell_type": "code",
   "execution_count": 3,
   "metadata": {},
   "outputs": [
    {
     "data": {
      "text/plain": [
       "dict_keys(['data', 'target', 'target_names', 'images', 'DESCR'])"
      ]
     },
     "execution_count": 3,
     "metadata": {},
     "output_type": "execute_result"
    }
   ],
   "source": [
    "digits.keys()"
   ]
  },
  {
   "cell_type": "code",
   "execution_count": 4,
   "metadata": {},
   "outputs": [],
   "source": [
    "x = digits.data\n",
    "y = digits.target"
   ]
  },
  {
   "cell_type": "code",
   "execution_count": 5,
   "metadata": {},
   "outputs": [
    {
     "data": {
      "text/plain": [
       "((1797, 64), (1797,))"
      ]
     },
     "execution_count": 5,
     "metadata": {},
     "output_type": "execute_result"
    }
   ],
   "source": [
    "x.shape, y.shape"
   ]
  },
  {
   "cell_type": "code",
   "execution_count": 10,
   "metadata": {},
   "outputs": [],
   "source": [
    "from sklearn.model_selection import train_test_split"
   ]
  },
  {
   "cell_type": "code",
   "execution_count": 11,
   "metadata": {},
   "outputs": [],
   "source": [
    "x_train,x_test, y_train,y_test = train_test_split(x,y,train_size=0.8)"
   ]
  },
  {
   "cell_type": "code",
   "execution_count": 13,
   "metadata": {},
   "outputs": [],
   "source": [
    "from sklearn import tree\n",
    "model = tree.DecisionTreeClassifier()"
   ]
  },
  {
   "cell_type": "code",
   "execution_count": 14,
   "metadata": {},
   "outputs": [],
   "source": [
    "model = model.fit(x_train,y_train)"
   ]
  },
  {
   "cell_type": "code",
   "execution_count": 17,
   "metadata": {},
   "outputs": [],
   "source": [
    "mypred = model.predict(x_test)"
   ]
  },
  {
   "cell_type": "code",
   "execution_count": 19,
   "metadata": {},
   "outputs": [],
   "source": [
    "from sklearn.metrics import classification_report"
   ]
  },
  {
   "cell_type": "code",
   "execution_count": 20,
   "metadata": {},
   "outputs": [
    {
     "name": "stdout",
     "output_type": "stream",
     "text": [
      "              precision    recall  f1-score   support\n",
      "\n",
      "           0       1.00      0.95      0.97        38\n",
      "           1       0.89      0.94      0.91        33\n",
      "           2       0.87      0.75      0.81        36\n",
      "           3       0.79      0.73      0.76        45\n",
      "           4       0.90      0.95      0.92        39\n",
      "           5       0.89      0.86      0.88        29\n",
      "           6       0.93      1.00      0.96        39\n",
      "           7       0.97      0.94      0.96        34\n",
      "           8       0.71      0.79      0.75        34\n",
      "           9       0.76      0.79      0.78        33\n",
      "\n",
      "    accuracy                           0.87       360\n",
      "   macro avg       0.87      0.87      0.87       360\n",
      "weighted avg       0.87      0.87      0.87       360\n",
      "\n"
     ]
    }
   ],
   "source": [
    "print(classification_report(y_test,mypred))"
   ]
  },
  {
   "cell_type": "code",
   "execution_count": 6,
   "metadata": {},
   "outputs": [],
   "source": [
    "import matplotlib.pyplot as plt"
   ]
  },
  {
   "cell_type": "code",
   "execution_count": 7,
   "metadata": {},
   "outputs": [],
   "source": [
    "myim = digits.images[5:9]\n",
    "mynum = digits.target[5:9]"
   ]
  },
  {
   "cell_type": "code",
   "execution_count": 8,
   "metadata": {},
   "outputs": [],
   "source": [
    "combine = list(zip(myim,mynum))"
   ]
  },
  {
   "cell_type": "code",
   "execution_count": 48,
   "metadata": {},
   "outputs": [
    {
     "data": {
      "image/png": "[encoded data removed]",
      "text/plain": [
       "<Figure size 432x288 with 4 Axes>"
      ]
     },
     "metadata": {
      "needs_background": "light"
     },
     "output_type": "display_data"
    }
   ],
   "source": [
    "for i,(a,b) in enumerate(combine):\n",
    "    plt.subplot(2, 4, i + 1)\n",
    "    plt.imshow(a, cmap=plt.cm.gray_r, interpolation='nearest')\n",
    "    plt.title('Prediction: %i' % b)"
   ]
  },
  {
   "cell_type": "code",
   "execution_count": 9,
   "metadata": {},
   "outputs": [
    {
     "data": {
      "text/plain": [
       "((4, 8, 8), (4,))"
      ]
     },
     "execution_count": 9,
     "metadata": {},
     "output_type": "execute_result"
    }
   ],
   "source": [
    "myim.shape,mynum.shape"
   ]
  },
  {
   "cell_type": "code",
   "execution_count": 11,
   "metadata": {},
   "outputs": [
    {
     "data": {
      "text/plain": [
       "4"
      ]
     },
     "execution_count": 11,
     "metadata": {},
     "output_type": "execute_result"
    }
   ],
   "source": [
    "len(combine)"
   ]
  },
  {
   "cell_type": "code",
   "execution_count": 12,
   "metadata": {},
   "outputs": [
    {
     "data": {
      "text/plain": [
       "[(array([[ 0.,  0., 12., 10.,  0.,  0.,  0.,  0.],\n",
       "         [ 0.,  0., 14., 16., 16., 14.,  0.,  0.],\n",
       "         [ 0.,  0., 13., 16., 15., 10.,  1.,  0.],\n",
       "         [ 0.,  0., 11., 16., 16.,  7.,  0.,  0.],\n",
       "         [ 0.,  0.,  0.,  4.,  7., 16.,  7.,  0.],\n",
       "         [ 0.,  0.,  0.,  0.,  4., 16.,  9.,  0.],\n",
       "         [ 0.,  0.,  5.,  4., 12., 16.,  4.,  0.],\n",
       "         [ 0.,  0.,  9., 16., 16., 10.,  0.,  0.]]), 5),\n",
       " (array([[ 0.,  0.,  0., 12., 13.,  0.,  0.,  0.],\n",
       "         [ 0.,  0.,  5., 16.,  8.,  0.,  0.,  0.],\n",
       "         [ 0.,  0., 13., 16.,  3.,  0.,  0.,  0.],\n",
       "         [ 0.,  0., 14., 13.,  0.,  0.,  0.,  0.],\n",
       "         [ 0.,  0., 15., 12.,  7.,  2.,  0.,  0.],\n",
       "         [ 0.,  0., 13., 16., 13., 16.,  3.,  0.],\n",
       "         [ 0.,  0.,  7., 16., 11., 15.,  8.,  0.],\n",
       "         [ 0.,  0.,  1.,  9., 15., 11.,  3.,  0.]]), 6),\n",
       " (array([[ 0.,  0.,  7.,  8., 13., 16., 15.,  1.],\n",
       "         [ 0.,  0.,  7.,  7.,  4., 11., 12.,  0.],\n",
       "         [ 0.,  0.,  0.,  0.,  8., 13.,  1.,  0.],\n",
       "         [ 0.,  4.,  8.,  8., 15., 15.,  6.,  0.],\n",
       "         [ 0.,  2., 11., 15., 15.,  4.,  0.,  0.],\n",
       "         [ 0.,  0.,  0., 16.,  5.,  0.,  0.,  0.],\n",
       "         [ 0.,  0.,  9., 15.,  1.,  0.,  0.,  0.],\n",
       "         [ 0.,  0., 13.,  5.,  0.,  0.,  0.,  0.]]), 7),\n",
       " (array([[ 0.,  0.,  9., 14.,  8.,  1.,  0.,  0.],\n",
       "         [ 0.,  0., 12., 14., 14., 12.,  0.,  0.],\n",
       "         [ 0.,  0.,  9., 10.,  0., 15.,  4.,  0.],\n",
       "         [ 0.,  0.,  3., 16., 12., 14.,  2.,  0.],\n",
       "         [ 0.,  0.,  4., 16., 16.,  2.,  0.,  0.],\n",
       "         [ 0.,  3., 16.,  8., 10., 13.,  2.,  0.],\n",
       "         [ 0.,  1., 15.,  1.,  3., 16.,  8.,  0.],\n",
       "         [ 0.,  0., 11., 16., 15., 11.,  1.,  0.]]), 8)]"
      ]
     },
     "execution_count": 12,
     "metadata": {},
     "output_type": "execute_result"
    }
   ],
   "source": [
    "combine"
   ]
  },
  {
   "cell_type": "code",
   "execution_count": null,
   "metadata": {},
   "outputs": [],
   "source": []
  }
 ],
 "metadata": {
  "kernelspec": {
   "display_name": "Python 3",
   "language": "python",
   "name": "python3"
  },
  "language_info": {
   "codemirror_mode": {
    "name": "ipython",
    "version": 3
   },
   "file_extension": ".py",
   "mimetype": "text/x-python",
   "name": "python",
   "nbconvert_exporter": "python",
   "pygments_lexer": "ipython3",
   "version": "3.6.5"
  }
 },
 "nbformat": 4,
 "nbformat_minor": 2
}
