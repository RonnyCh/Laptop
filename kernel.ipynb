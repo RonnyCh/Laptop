{
 "cells": [
  {
   "cell_type": "markdown",
   "metadata": {
    "_uuid": "0edf7c4763969a6b267c5787d9874f2871fe5235"
   },
   "source": [
    "# Comprehension Check: Distance\n",
    "\n",
    "# **Q1**\n",
    "1/1 point (graded)\n",
    "Load the following dataset:"
   ]
  },
  {
   "cell_type": "code",
   "execution_count": null,
   "metadata": {
    "_uuid": "7e5937ec31c9076fc07d3aaa2629cd9f8ed6b21d"
   },
   "outputs": [],
   "source": [
    "library(dslabs)\n",
    "data(\"tissue_gene_expression\")"
   ]
  },
  {
   "cell_type": "code",
   "execution_count": null,
   "metadata": {
    "_uuid": "870f37d610610550d098cb93ad82cf0c93f4b6ab"
   },
   "outputs": [],
   "source": [
    "dim(tissue_gene_expression$x)"
   ]
  },
  {
   "cell_type": "code",
   "execution_count": null,
   "metadata": {
    "_uuid": "c4b18a1725655319b53b729dbae251894d6ce444"
   },
   "outputs": [],
   "source": [
    "table(tissue_gene_expression$y)"
   ]
  },
  {
   "cell_type": "markdown",
   "metadata": {
    "_uuid": "c6a7c6c13fd7dd63cfa571b5c33fe8a18553cae0"
   },
   "source": [
    "This matrix has the gene expression levels of 500 genes from 189 biological samples representing seven different tissues. The tissue type is stored in y:\n",
    "\n",
    "Which of the following lines of code computes the Euclidean distance between each observation and stores it in the object d?"
   ]
  },
  {
   "cell_type": "code",
   "execution_count": null,
   "metadata": {
    "_uuid": "b880695ea93c8263569f208b589908efd0d5e8be"
   },
   "outputs": [],
   "source": [
    "# aswer to q1\n",
    "d <- dist(tissue_gene_expression$x)"
   ]
  },
  {
   "cell_type": "markdown",
   "metadata": {
    "_uuid": "46a1ca3dbb89c2b419c6070272d3209448b3a539"
   },
   "source": [
    "# **Q2**\n",
    "\n",
    "1/1 point (graded)\n",
    "Compare the distances between observations 1 and 2 (both cerebellum), observations 39 and 40 (both colon), and observations 73 and 74 (both endometrium).\n",
    "\n",
    "# Answer #\n",
    "Yes, the samples from the same tissue type are closest to each other. correct"
   ]
  },
  {
   "cell_type": "markdown",
   "metadata": {
    "_uuid": "273e9bb16dca8046efb7c5b2ed8ed4c1baf72081"
   },
   "source": [
    "# Q3 \n",
    "\n",
    "1/1 point (graded)\n",
    "Make a plot of all the distances using the image function to see if the pattern you observed in Q2 is general.\n",
    "\n",
    "Which code would correctly make the desired plot?"
   ]
  },
  {
   "cell_type": "code",
   "execution_count": null,
   "metadata": {
    "_uuid": "f244655b92f6569fba73db6ae1e9f6e1ed6d7bc8"
   },
   "outputs": [],
   "source": [
    "image(as.matrix(d))"
   ]
  },
  {
   "cell_type": "code",
   "execution_count": null,
   "metadata": {
    "_uuid": "8e0872bfd8106ce802c9cc401f953d62449efe06"
   },
   "outputs": [],
   "source": [
    "ind <- c(1, 2, 39, 40, 73, 74)\n",
    "as.matrix(d)[ind,ind]"
   ]
  },
  {
   "cell_type": "markdown",
   "metadata": {
    "_uuid": "b951a35398592171c87271d7b5f34fd7e541c929"
   },
   "source": [
    "# Comprehension Check: Nearest Neighbors\n",
    "\n",
    "# Q1\n",
    "2 points possible (graded)\n",
    "Previously, we used logistic regression to predict sex based on height. Now we are going to use knn to do the same. Use the code described in these videos to select the F_1 measure and plot it against k. Compare to the F_1 of about 0.6 we obtained with regression. Set the seed to 1.\n",
    "\n"
   ]
  },
  {
   "cell_type": "code",
   "execution_count": null,
   "metadata": {
    "_uuid": "ba4519a3340987b9874c52efe6548ebc38e20746"
   },
   "outputs": [],
   "source": [
    "library(dslabs)\n",
    "\n",
    "library(tidyverse)\n",
    "\n",
    "library(caret)\n",
    "\n",
    "data(heights)\n",
    "\n",
    "set.seed(1)\n",
    "\n",
    "y<-heights$sex\n",
    "\n",
    "x<-heights$height\n",
    "\n",
    "test_index<-createDataPartition(y,times=1,p=0.5,list=FALSE)\n",
    "\n",
    "train_set<-heights[-test_index,]\n",
    "\n",
    "test_set<-heights[test_index,]\n",
    "\n",
    "knn_fit <- knn3(y~x, data = train_set)\n",
    "\n",
    "y_hat <- predict(knn_fit, train_set$sex, type = \"class\") %>% factor(levels = levels(train_set$sex))\n",
    "\n",
    "F_meas(data = y_hat, reference = factor(train_set$sex))"
   ]
  },
  {
   "cell_type": "code",
   "execution_count": null,
   "metadata": {
    "_uuid": "3fd69926c59f4644a25856c88efc562aeeb94773"
   },
   "outputs": [],
   "source": [
    "data(\"mnist_27\")\n",
    "mnist_27$test%>% ggplot(aes(x_1, x_2, color = y)) +\n",
    "  geom_point()"
   ]
  },
  {
   "cell_type": "code",
   "execution_count": null,
   "metadata": {
    "_uuid": "91bb52a21133516f4a23dd995973c40ee9a7a9dd"
   },
   "outputs": [],
   "source": [
    "library(caret)\n",
    "fit_glm <- glm(y ~ x_1 + x_2, data=mnist_27$train, family=\"binomial\")\n",
    "p_hat_logistic <- predict(fit_glm, mnist_27$test)\n",
    "y_hat_logistic <- factor(ifelse(p_hat_logistic > 0.5, 7, 2))\n",
    "confusionMatrix(data = y_hat_logistic, reference = mnist_27$test$y)"
   ]
  }
 ],
 "metadata": {
  "kernelspec": {
   "display_name": "R",
   "language": "R",
   "name": "ir"
  },
  "language_info": {
   "codemirror_mode": "r",
   "file_extension": ".r",
   "mimetype": "text/x-r-source",
   "name": "R",
   "pygments_lexer": "r",
   "version": "3.4.2"
  }
 },
 "nbformat": 4,
 "nbformat_minor": 1
}
