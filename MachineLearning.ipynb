{
 "cells": [
  {
   "cell_type": "markdown",
   "metadata": {
    "_uuid": "eedb84750f0eeaa9f62e837fbf87dcec4b5d653b"
   },
   "source": [
    "**Chapter 56 The confusion matrix, prevalence, sensitivity and specificity**"
   ]
  },
  {
   "cell_type": "code",
   "execution_count": null,
   "metadata": {
    "_uuid": "8bb3f89d3a95da17e1502ca132860046c028ab3b"
   },
   "outputs": [],
   "source": [
    "library(caret)\n",
    "library(dslabs)\n",
    "library(dplyr)\n",
    "data(heights)"
   ]
  },
  {
   "cell_type": "markdown",
   "metadata": {
    "_uuid": "1f1cf18c1c786f06850f29adae88f7beb8bce7bb"
   },
   "source": [
    "We start by defining the outcome and predictors. In this case, we have only one predictor:"
   ]
  },
  {
   "cell_type": "code",
   "execution_count": null,
   "metadata": {
    "_uuid": "bb4f984e982389fce2fa9e24bde989712c4acb91"
   },
   "outputs": [],
   "source": [
    "y <- heights$sex\n",
    "x <- heights$height"
   ]
  },
  {
   "cell_type": "markdown",
   "metadata": {
    "_uuid": "247cb40bcb6b2c377bb9163c18ba2af83b5fa191"
   },
   "source": [
    "This is clearly a categorical outcome since  Y can be Male or Female and we only have one predictor: height. We know that we will not be able to predict  Y very accurately based on  X because male and female average heights are not that different relative to within group variability. But can we do better than guessing? To answer this question, we need a quantitative definition of better.\n",
    "\n",
    "**56.1 Training and test sets**\n",
    "\n",
    "Ultimately, a machine learning algorithm is evaluated on how it performs in the real world with completely new datasets. However, when developing an algorithm, we usually have a dataset for which we know the outcomes, as we do with the heights: we know the sex of every student in our dataset. Therefore, to mimic the ultimate evaluation process, we typically split the data into two and act as if we don’t know the outcome for one of these. We stop pretending we don’t know the outcome to evaluate the algorithm, but only after we are done constructing it. We refer to the group for which we know the outcome and use it to develop the algorithm as the training set, and the group for which we pretend we don’t know the outcome as the test set.\n",
    "\n",
    "A standard way of generating the training and test sets is by randomly splitting the data. The caret package includes the function createDataPartition that helps us generates indexes for randomly splitting the data into training and test sets:"
   ]
  },
  {
   "cell_type": "code",
   "execution_count": null,
   "metadata": {
    "_uuid": "e527b885aa349737521b1034aacf75f141d33296"
   },
   "outputs": [],
   "source": [
    "set.seed(2)\n",
    "test_index <- createDataPartition(y, times = 1, p = 0.5, list = FALSE)"
   ]
  },
  {
   "cell_type": "markdown",
   "metadata": {
    "_uuid": "0bb02e80cdcc5027758e151c9f142b2fcc8ebb31"
   },
   "source": [
    "The argument times is used to define how many random samples of indexes to return, the argument p is used to define what proportion of the data is represented by the index, and the argument list is used to decide if we want the indexes returned as a list or not. We can use the result of the function call to define the training and test sets like this:"
   ]
  },
  {
   "cell_type": "code",
   "execution_count": null,
   "metadata": {
    "_uuid": "115290d96ffa4a95e1d70776caf36be9a7555364"
   },
   "outputs": [],
   "source": [
    "test_set <- heights[test_index, ]\n",
    "train_set <- heights[-test_index, ]"
   ]
  },
  {
   "cell_type": "markdown",
   "metadata": {
    "_uuid": "01d0aa178e688a3da0cbb7cf139a2643eff2584e"
   },
   "source": [
    "We will now develop an algorithm using only the training set. Once we are done developing the algorithm, we will freeze it and evaluate it using the test set. The simplest way to evaluate the algorithm when the outcomes are categorical is by simply reporting the proportion of cases that were correctly predicted in the test set. This metric is usually referred to as overall accuracy.\n",
    "\n",
    "**56.2 Overall accuracy**\n",
    "\n",
    "To demonstrate the use of overall accuracy, we will build two competing algorithms and compare them.\n",
    "Let’s start by developing the simplest possible machine algorithm: guessing the outcome."
   ]
  },
  {
   "cell_type": "code",
   "execution_count": null,
   "metadata": {
    "_uuid": "a497288b6ab09891f2b3e1e9c80ed6ab27f62939"
   },
   "outputs": [],
   "source": [
    "y_hat <- sample(c(\"Male\", \"Female\"), length(test_index), replace = TRUE)"
   ]
  },
  {
   "cell_type": "markdown",
   "metadata": {
    "_uuid": "d7673a892c699bd7570a0ccf57921725e6dc5a43"
   },
   "source": [
    "Note that we are completely ignoring the predictor and simply guessing the sex.\n",
    "\n",
    "In machine learning applications, it is useful to use factors to represent the categorical outcomes because R functions developed for machine learning, such as those in the caret package, require or recommend that categorical outcomes be coded as factors. So convert y_hat to factors using the factor function:"
   ]
  },
  {
   "cell_type": "code",
   "execution_count": null,
   "metadata": {
    "_uuid": "e1970ed462dd0eb6e804ced3a81378ee718bb8af"
   },
   "outputs": [],
   "source": [
    "y_hat <- sample(c(\"Male\", \"Female\"), length(test_index), replace = TRUE) %>% \n",
    "  factor(levels = levels(test_set$sex))"
   ]
  },
  {
   "cell_type": "markdown",
   "metadata": {
    "_uuid": "75e1d59901f410af356bba2715c67b9cd878fec5"
   },
   "source": [
    "The overall accuracy is simply defined as the overall proportion that is predicted correctly:"
   ]
  },
  {
   "cell_type": "code",
   "execution_count": null,
   "metadata": {
    "_uuid": "20b0ebf74c1aea9ce622fdbfcf8d61df5eec3faf"
   },
   "outputs": [],
   "source": [
    "mean(y_hat == test_set$sex)"
   ]
  },
  {
   "cell_type": "markdown",
   "metadata": {
    "_uuid": "1d51d455129defbbf8af4cbe40b1ababbe47c148"
   },
   "source": [
    "Not surprisingly, our accuracy is about 50%. We are guessing!\n",
    "\n",
    "Can we do better? Exploratory data analysis suggests we can because, on average, males are slightly taller than females:"
   ]
  },
  {
   "cell_type": "code",
   "execution_count": null,
   "metadata": {
    "_uuid": "59dd483d046c46e2818e8944732ccd5ec12f8905"
   },
   "outputs": [],
   "source": [
    "heights %>% group_by(sex) %>% summarize(mean(height), sd(height))"
   ]
  },
  {
   "cell_type": "markdown",
   "metadata": {
    "_uuid": "b896858b0ca0133b6b489f0a9408779b961fee71"
   },
   "source": [
    "But how do we make use of this insight? Let’s try another simple approach: predict Male if height is within two standard deviations from the average male:"
   ]
  },
  {
   "cell_type": "code",
   "execution_count": null,
   "metadata": {
    "_uuid": "e1c7496454bc92840f3237bf653903be74fbfd11"
   },
   "outputs": [],
   "source": [
    "y_hat <- ifelse(x > 62, \"Male\", \"Female\") %>% factor(levels = levels(test_set$sex))"
   ]
  },
  {
   "cell_type": "markdown",
   "metadata": {
    "_uuid": "d7ceb46d1b71d68a896526ceb71ab52c49376d02"
   },
   "source": [
    "The accuracy goes up from 0.50 to about 0.80:"
   ]
  },
  {
   "cell_type": "code",
   "execution_count": null,
   "metadata": {
    "_uuid": "3a018fe75011f5d4898d785db9ad68753abc23f1"
   },
   "outputs": [],
   "source": [
    "mean(y == y_hat)"
   ]
  },
  {
   "cell_type": "markdown",
   "metadata": {
    "_uuid": "68c7864b26a44b6b24c672bf480daafc1394925e"
   },
   "source": [
    "But can we do even better? In the example above, we used a cutoff of 62, but we can examine the accuracy obtained for other cutoffs and then pick the value that provides the best results. But remember, it is important that we optimize the cutoff using only the training set: the test set is only for evaluation. Although for this simplistic example it is not much of a problem, later we will learn that evaluating an algorithm on the training set can lead to overfitting, which often results in dangerously over-optimistic assessments.\n",
    "\n",
    "Here we examine the accuracy of 10 different cutoffs and pick the one yielding the best result:"
   ]
  },
  {
   "cell_type": "markdown",
   "metadata": {
    "_uuid": "7e0dca909febc5863517f83bb67337c85e07b6f7"
   },
   "source": [
    "I just played around with function sapply and map_dbl (map double) and they both give the same outcome\n",
    "so you can prob use either one of them. \n",
    "\n",
    "These are some of the diff in apply functions \n",
    "* apply ---> you need to specific margin or which colum or row to apply\n",
    "* lapply ---> stand for list and give outcome in list but no need to specify margin\n",
    "* sapply ---> prob  the best of the outcome no margin and come out with vector instead of list"
   ]
  },
  {
   "cell_type": "code",
   "execution_count": null,
   "metadata": {
    "_uuid": "8817e65d44efedfecbd96f31bb59f054166563e0"
   },
   "outputs": [],
   "source": [
    "library(purrr)\n",
    "cutoff <- seq(61, 70)\n",
    "accuracy <- map_dbl(cutoff, function(x){\n",
    "  y_hat <- ifelse(train_set$height > x, \"Male\", \"Female\") %>% factor(levels = levels(test_set$sex))\n",
    "  mean(y_hat == train_set$sex)\n",
    "})"
   ]
  },
  {
   "cell_type": "markdown",
   "metadata": {
    "_uuid": "4dc62d505907807b4d7e4fa7844de370b192c03c"
   },
   "source": [
    "**Below is some types for plotting**\n",
    "**type\tdescription**\n",
    "\n",
    "* p\tpoints\n",
    "* l\tlines\n",
    "* o\toverplotted points and lines\n",
    "* b, c\tpoints (empty if \"c\") joined by lines\n",
    "* s, S\tstair steps\n",
    "* h\thistogram-like vertical lines\n",
    "* n\tdoes not produce any points or lines\n"
   ]
  },
  {
   "cell_type": "code",
   "execution_count": null,
   "metadata": {
    "_uuid": "97d31f2825ffc81b588352f1841aad5575212a37"
   },
   "outputs": [],
   "source": [
    "\n",
    "plot(cutoff,accuracy,type='o')\n",
    "\n"
   ]
  },
  {
   "cell_type": "markdown",
   "metadata": {
    "_uuid": "95eb127183489b70d2fe2e93c2548a87ea440250"
   },
   "source": [
    "We see that the maximum value is:"
   ]
  },
  {
   "cell_type": "code",
   "execution_count": null,
   "metadata": {
    "_uuid": "4e8c5499529139aeef1f195edb9ed5f58c2e94fe"
   },
   "outputs": [],
   "source": [
    "max(accuracy)"
   ]
  },
  {
   "cell_type": "markdown",
   "metadata": {
    "_uuid": "e8083b942216f1f65c456a23eb5520d0b493f144"
   },
   "source": [
    "which is much higher than 0.5. The cutoff resulting in this accuracy is:"
   ]
  },
  {
   "cell_type": "code",
   "execution_count": null,
   "metadata": {
    "_uuid": "8a16c5500b5dc55a47c6583de50346eb75afe655"
   },
   "outputs": [],
   "source": [
    "best_cutoff <- cutoff[which.max(accuracy)]\n",
    "best_cutoff"
   ]
  },
  {
   "cell_type": "markdown",
   "metadata": {
    "_uuid": "25de8d6e7bf325b2a3659797cf653582ae67de38"
   },
   "source": [
    "Now we can now test this cutoff on our test set to make sure our accuracy is not overly optimistic:"
   ]
  },
  {
   "cell_type": "code",
   "execution_count": null,
   "metadata": {
    "_uuid": "082e28b0fdda3c22f336ae55707934a929db3453"
   },
   "outputs": [],
   "source": [
    "y_hat <- ifelse(test_set$height > best_cutoff, \"Male\", \"Female\") %>% factor(levels = levels(test_set$sex))\n",
    "y_hat <- factor(y_hat)\n",
    "mean(y_hat == test_set$sex)"
   ]
  },
  {
   "cell_type": "markdown",
   "metadata": {
    "_uuid": "ea59121fb9a57dcc7797415e4a704fa9816ffc4c"
   },
   "source": [
    "We see that it is a bit lower than the accuracy observed for the training set, but it is still better than guessing. And by testing on a dataset that we did not train on, we know it is not due to cherry-picking a good result.\n",
    "\n",
    "**56.3 The Confusion Matrix**\n",
    "\n",
    "The prediction rule we developed in the previous section predicts Male if the student is taller than 64 inches. Given that the average female is about 65 inches, this prediction rule seems wrong. What happened? If a student is the height of the average female, shouldn’t we predict Female?\n",
    "\n",
    "Generally speaking, overall accuracy can be a deceptive measure. To see this, we will start by constructing what is referred to as the confusion matrix, which basically tabulates each combination of prediction and actual value. We can do this in R using the function table:"
   ]
  },
  {
   "cell_type": "code",
   "execution_count": null,
   "metadata": {
    "_uuid": "3a89635ace1cf197d32bc3877d12874d9db50270"
   },
   "outputs": [],
   "source": [
    "table(predicted = y_hat, actual = test_set$sex)"
   ]
  },
  {
   "cell_type": "markdown",
   "metadata": {
    "_uuid": "5aa163d15dbff1711539b989fe75277183c26e41"
   },
   "source": [
    "If we study this table closely, it reveals a problem. If we compute the accuracy separately for each sex, we get:"
   ]
  },
  {
   "cell_type": "code",
   "execution_count": null,
   "metadata": {
    "_uuid": "7a9aff0518a67b4b959b2c355290ec420b4a8327"
   },
   "outputs": [],
   "source": [
    "test_set %>% \n",
    "  mutate(y_hat = y_hat) %>%\n",
    "  group_by(sex) %>% \n",
    "  summarize(accuracy = mean(y_hat == sex))"
   ]
  },
  {
   "cell_type": "markdown",
   "metadata": {
    "_uuid": "c4d19b1642cd75211ad8a2026f344c854fa6c2b9"
   },
   "source": [
    "There is an imbalance in the accuracy for males and females: too many females are predicted to be male. We are calling almost half of the females, males! How can our overall accuracy be so high then? This is because the prevalence of males in this dataset is high. These heights were collected from three data sciences courses, two of which had more males enrolled:"
   ]
  },
  {
   "cell_type": "code",
   "execution_count": null,
   "metadata": {
    "_uuid": "f224e0d465fcf4ead9047a678dd51f7a039e6b33"
   },
   "outputs": [],
   "source": [
    "prev <- mean(y == \"Male\")\n",
    "prev"
   ]
  },
  {
   "cell_type": "markdown",
   "metadata": {
    "_uuid": "bdc8a368bc0b0f136fa57e2bb3fb5b81f9b91556"
   },
   "source": [
    "So when computing overall accuracy, the high percentage of mistakes made for females is outweighed by the gains in correct calls for men. This can actually be a big problem in machine learning. If your training data is biased in some way, you are likely to develop algorithms that are biased as well. The fact that we used a test set does not matter because it is also derived from the original, biased dataset. This is one of the reasons we look at metrics other than overall accuracy when evaluating a machine learning algorithm.\n",
    "\n",
    "There are several metrics that we can use to evaluate an algorithm in a way that prevalence does not cloud our assessment, and these can all be derived from the confusion matrix. A general improvement to using overall accuracy is to study sensitivity and specificity separately."
   ]
  },
  {
   "cell_type": "markdown",
   "metadata": {
    "_uuid": "cc1a6ddee7b3e8e2194d0bcb12764dbee72d807f"
   },
   "source": [
    "To get a better understanding of confusion matrix, just check the attached in kaggle under spreadsheet name confusionmatrix\n",
    "\n"
   ]
  },
  {
   "cell_type": "code",
   "execution_count": null,
   "metadata": {
    "_uuid": "9bf974ff944f55daefce0518724540b0f7c8f362"
   },
   "outputs": [],
   "source": [
    "confusionMatrix(data = y_hat, reference = test_set$sex)"
   ]
  },
  {
   "cell_type": "markdown",
   "metadata": {
    "_uuid": "988606144672158f31f3a4637dd5d43dc0c39f72"
   },
   "source": [
    "Check out this link which gives great info on confusion matric [great link](https://www.dataschool.io/simple-guide-to-confusion-matrix-terminology/)"
   ]
  },
  {
   "cell_type": "code",
   "execution_count": null,
   "metadata": {
    "_uuid": "85ff537a0f5c5b6c46b00a7390e9829c3035b5ec"
   },
   "outputs": [],
   "source": [
    "#56.5 Balanced accuracy and F1 score\n",
    "\n",
    "cutoff <- seq(61, 70)\n",
    "F_1 <- map_dbl(cutoff, function(x){\n",
    "  y_hat <- ifelse(train_set$height > x, \"Male\", \"Female\") %>% factor(levels = levels(test_set$sex))\n",
    "  F_meas(data = y_hat, reference = factor(train_set$sex))\n",
    "})"
   ]
  },
  {
   "cell_type": "markdown",
   "metadata": {
    "_uuid": "6afa77305836cdae50e226eb667118c77c0ba679"
   },
   "source": [
    "We see that it is maximized at  F1 value of:"
   ]
  },
  {
   "cell_type": "code",
   "execution_count": null,
   "metadata": {
    "_uuid": "6d430e17500f6252a072df33bb08a6cf381bc79e"
   },
   "outputs": [],
   "source": [
    "max(F_1)"
   ]
  },
  {
   "cell_type": "code",
   "execution_count": null,
   "metadata": {
    "_uuid": "b2aed2168f260b01eb91a0a0efb38316061f4f93"
   },
   "outputs": [],
   "source": [
    "best_cutoff <- cutoff[which.max(F_1)]\n",
    "best_cutoff"
   ]
  },
  {
   "cell_type": "markdown",
   "metadata": {
    "_uuid": "1e2e8662fd864e4060a7169ed61a6052393dee5e"
   },
   "source": [
    "A cutoff of 66 makes much more sense than 64. Furthermore, it balances the specificity and sensitivity of our confusion matrix:"
   ]
  },
  {
   "cell_type": "code",
   "execution_count": null,
   "metadata": {
    "_uuid": "2752f652d087c1a9ed74d0f1e76ef0960fd0c12e"
   },
   "outputs": [],
   "source": [
    "y_hat <- ifelse(test_set$height > best_cutoff, \"Male\", \"Female\") %>% factor(levels = levels(test_set$sex))\n",
    "confusionMatrix(data = y_hat, reference = test_set$sex)"
   ]
  },
  {
   "cell_type": "markdown",
   "metadata": {
    "_uuid": "fb7209991134cd5959cf629828c048ad3ae7c3e5"
   },
   "source": [
    "We now see that we do much better than guessing, that both sensitivity and specificity are relatively high, and that we have built our first machine learning algorithm. It takes height as a predictor and predicts female, if you are 66 inches or shorter.\n",
    "\n",
    "**56.7 ROC and precision-recall curves**\n",
    "\n",
    "When comparing the two methods: guessing versus using a height cutoff, we looked at accuracy and  F1. The second method clearly outperformed. However, while we considered several cutoffs for the second method, for the first we only considered one approach: guessing with equal probability. Note that guessing Male with higher probability would give us higher accuracy due to the bias in the sample:\n",
    "\n"
   ]
  },
  {
   "cell_type": "code",
   "execution_count": null,
   "metadata": {
    "_uuid": "b1c1fe83698392d346b9d75627a7d43a91b27f5f"
   },
   "outputs": [],
   "source": [
    "p <- 0.9\n",
    "y_hat <- sample(c(\"Male\", \"Female\"), length(test_index), replace = TRUE, prob=c(p, 1-p)) %>% \n",
    "  factor(levels = levels(test_set$sex))\n",
    "mean(y_hat == test_set$sex)"
   ]
  },
  {
   "cell_type": "markdown",
   "metadata": {
    "_uuid": "61cad61bd73f1788ee7007da9672d244239d1351"
   },
   "source": [
    "But, as described above, this would come at the cost of lower sensitivity. The curves we describe in this section will help us see this.\n",
    "\n",
    "Remember that for each of these parameters, we can get a different sensitivity and specificity. For this reason, a very common approach to evaluating methods is to compare them graphically by plotting both.\n",
    "\n",
    "A widely used plot that does this is the receiver operating characteristic (ROC) curve. If you are wondering where this name comes from, according to Wikipedia:\n",
    "\n",
    "The ROC curve was first used during World War II for the analysis of radar signals before it was employed in signal detection theory.[35] Following the attack on Pearl Harbor in 1941, the United States army began new research to increase the prediction of correctly detected Japanese aircraft from their radar signals. For this purpose they measured the ability of radar receiver operators to make these important distinctions, which was called the Receiver Operating Characteristics.\n",
    "\n",
    "The ROC curve plots sensitivity (TPR) versus 1 - specificity or the false positive rate (FPR). Here is an ROC curve for guessing sex but using different probabilities of guessing male:"
   ]
  },
  {
   "cell_type": "code",
   "execution_count": null,
   "metadata": {
    "_uuid": "f8fe73dcacb0bd321fb21f81eeecf9e33097d14f"
   },
   "outputs": [],
   "source": [
    "probs <- seq(0, 1, length.out = 10)\n",
    "guessing <- map_df(probs, function(p){\n",
    "  y_hat <- \n",
    "    sample(c(\"Male\", \"Female\"), length(test_index), replace = TRUE, prob=c(p, 1-p)) %>% \n",
    "    factor(levels = c(\"Female\", \"Male\"))\n",
    "  list(method = \"Guessing\",\n",
    "       FPR = 1 - specificity(y_hat, test_set$sex),\n",
    "       TPR = sensitivity(y_hat, test_set$sex))\n",
    "})\n",
    "guessing %>% qplot(FPR, TPR, data =., xlab = \"1 - Specificity\", ylab = \"Sensitivity\")"
   ]
  },
  {
   "cell_type": "markdown",
   "metadata": {
    "_uuid": "48e3516e5e1ae1bafad9e325ef67b0d09de69029"
   },
   "source": [
    "The ROC curve for guessing always looks like a straight line. A perfect algorithm would shoot straight to 1 and stay up there: perfect sensitivity for all values of specificity. So how does our second approach compare? We can construct an ROC curve for the height based approach:"
   ]
  },
  {
   "cell_type": "code",
   "execution_count": null,
   "metadata": {
    "_uuid": "e1a813c97d3f7d12057c58cc5f2760c1f23e2823"
   },
   "outputs": [],
   "source": [
    "cutoffs <- c(50, seq(60, 75), 80)\n",
    "height_cutoff <- map_df(cutoffs, function(x){\n",
    "  y_hat <- ifelse(test_set$height > x, \"Male\", \"Female\") %>% \n",
    "    factor(levels = c(\"Female\", \"Male\"))\n",
    "   list(method = \"Height cutoff\",\n",
    "        FPR = 1-specificity(y_hat, test_set$sex),\n",
    "        TPR = sensitivity(y_hat, test_set$sex))\n",
    "})"
   ]
  },
  {
   "cell_type": "code",
   "execution_count": null,
   "metadata": {
    "_uuid": "04d0901667c62b28ba61efb964180448b603f6a7"
   },
   "outputs": [],
   "source": [
    "bind_rows(guessing, height_cutoff) %>%\n",
    "  ggplot(aes(FPR, TPR, color = method)) +\n",
    "  geom_line() +\n",
    "  geom_point() +\n",
    "  xlab(\"1 - Specificity\") +\n",
    "  ylab(\"Sensitivity\")"
   ]
  },
  {
   "cell_type": "code",
   "execution_count": null,
   "metadata": {
    "_uuid": "3b9b00d526bfb59ca3f51be24728cd7f76ab1fe5"
   },
   "outputs": [],
   "source": [
    "map_df(cutoffs, function(x){\n",
    "  y_hat <- ifelse(test_set$height > x, \"Male\", \"Female\") %>% \n",
    "    factor(levels = c(\"Female\", \"Male\"))\n",
    "   list(method = \"Height cutoff\",\n",
    "        cutoff = x, \n",
    "        FPR = 1-specificity(y_hat, test_set$sex),\n",
    "        TPR = sensitivity(y_hat, test_set$sex))\n",
    "}) %>%\n",
    "  ggplot(aes(FPR, TPR, label = cutoff)) +\n",
    "  geom_line() +\n",
    "  geom_point() +\n",
    "  geom_text(nudge_y = 0.01)"
   ]
  },
  {
   "cell_type": "code",
   "execution_count": null,
   "metadata": {
    "_uuid": "1eb3f8eca5718c3fd6202cdb6b9411452e6aae42"
   },
   "outputs": [],
   "source": [
    "guessing <- map_df(probs, function(p){\n",
    "  y_hat <- sample(c(\"Male\", \"Female\"), length(test_index), \n",
    "                  replace = TRUE, prob=c(p, 1-p)) %>% \n",
    "    factor(levels = c(\"Female\", \"Male\"))\n",
    "  list(method = \"Guess\",\n",
    "    recall = sensitivity(y_hat, test_set$sex),\n",
    "    precision = precision(y_hat, test_set$sex))\n",
    "})\n",
    "\n",
    "height_cutoff <- map_df(cutoffs, function(x){\n",
    "  y_hat <- ifelse(test_set$height > x, \"Male\", \"Female\") %>% \n",
    "    factor(levels = c(\"Female\", \"Male\"))\n",
    "  list(method = \"Height cutoff\",\n",
    "       recall = sensitivity(y_hat, test_set$sex),\n",
    "    precision = precision(y_hat, test_set$sex))\n",
    "})\n",
    "bind_rows(guessing, height_cutoff) %>%\n",
    "  ggplot(aes(recall, precision, color = method)) +\n",
    "  geom_line() +\n",
    "  geom_point()\n",
    "\n",
    "\n"
   ]
  },
  {
   "cell_type": "code",
   "execution_count": null,
   "metadata": {
    "_uuid": "34400705d218d5684737b86af720be5a20010be5"
   },
   "outputs": [],
   "source": [
    "guessing <- map_df(probs, function(p){\n",
    "  y_hat <- sample(c(\"Male\", \"Female\"), length(test_index), replace = TRUE, \n",
    "                  prob=c(p, 1-p)) %>% \n",
    "    factor(levels = c(\"Male\", \"Female\"))\n",
    "  list(method = \"Guess\",\n",
    "    recall = sensitivity(y_hat, relevel(test_set$sex, \"Male\", \"Female\")),\n",
    "    precision = precision(y_hat, relevel(test_set$sex, \"Male\", \"Female\")))\n",
    "})\n",
    "\n",
    "height_cutoff <- map_df(cutoffs, function(x){\n",
    "  y_hat <- ifelse(test_set$height > x, \"Male\", \"Female\") %>% \n",
    "    factor(levels = c(\"Male\", \"Female\"))\n",
    "  list(method = \"Height cutoff\",\n",
    "       recall = sensitivity(y_hat, relevel(test_set$sex, \"Male\", \"Female\")),\n",
    "    precision = precision(y_hat, relevel(test_set$sex, \"Male\", \"Female\")))\n",
    "})\n",
    "bind_rows(guessing, height_cutoff) %>%\n",
    "  ggplot(aes(recall, precision, color = method)) +\n",
    "  geom_line() +\n",
    "  geom_point()"
   ]
  },
  {
   "cell_type": "markdown",
   "metadata": {
    "_uuid": "dd0dbff0034b24ef0f688fbaddc02af9f9ca8781"
   },
   "source": [
    "**Chapter 67 Linear regression for prediction**\n",
    "\n",
    "Linear regression can be considered a machine learning algorithm. As we will see, it is too rigid to be useful in general, but for some challenges it works rather well. It also serves as a baseline approach: if you can’t beat it with a more complex approach, you probably want to stick to linear regression. To quickly make the connection between regression and machine learning, we will reformulate Galton’s study with heights: a continuous outcome."
   ]
  },
  {
   "cell_type": "code",
   "execution_count": null,
   "metadata": {
    "_uuid": "1bce2f283576dc170d0ae9b7a969abf745230464"
   },
   "outputs": [],
   "source": [
    "library(HistData)\n",
    "\n",
    "galton_heights <- GaltonFamilies %>%\n",
    "  filter(childNum == 1 & gender == \"male\") %>%\n",
    "  select(father, childHeight) %>%\n",
    "  rename(son = childHeight)"
   ]
  },
  {
   "cell_type": "markdown",
   "metadata": {
    "_uuid": "7ee89ec8d59677ee4b74c3987411f89cb3079bbf"
   },
   "source": [
    "Suppose you are tasked with building a machine learning algorithm that predicts the son’s height  Y using the father’s height  X. Let’s generate testing and training sets:"
   ]
  },
  {
   "cell_type": "code",
   "execution_count": null,
   "metadata": {
    "_uuid": "7992aa7443d39cf5ff92690b975ef78f79aeca8a"
   },
   "outputs": [],
   "source": [
    "library(caret)\n",
    "y <- galton_heights$son\n",
    "test_index <- createDataPartition(y, times = 1, p = 0.5, list = FALSE)\n",
    "\n",
    "train_set <- galton_heights %>% slice(-test_index)\n",
    "test_set <- galton_heights %>% slice(test_index)"
   ]
  },
  {
   "cell_type": "code",
   "execution_count": null,
   "metadata": {
    "_uuid": "e882f6f4646388c7967e2ec474b1666056fd9183"
   },
   "outputs": [],
   "source": [
    "head(train_set)"
   ]
  },
  {
   "cell_type": "markdown",
   "metadata": {
    "_uuid": "6464014ff0c7b55b0f5cada4d446166ed5809132"
   },
   "source": [
    "In this case, if we were just ignoring the father’s height and guessing the son’s height we would guess the average height of sons.\n",
    "And you can see the diff in results as well below."
   ]
  },
  {
   "cell_type": "code",
   "execution_count": null,
   "metadata": {
    "_uuid": "15c9880bb807cf0b1156082cd11c4bade2cc7335"
   },
   "outputs": [],
   "source": [
    "avg <- mean(train_set$son)\n",
    "avg\n",
    "\n",
    "mean((avg - test_set$son)^2)"
   ]
  },
  {
   "cell_type": "markdown",
   "metadata": {
    "_uuid": "a430047c7b9f52362cd5b187f929f659156ed55d"
   },
   "source": [
    "The below code showing linear model fitting data to f(x) = b0 + b1x..... in the lm model, intercept is b0 and father is b1"
   ]
  },
  {
   "cell_type": "code",
   "execution_count": null,
   "metadata": {
    "_uuid": "f478b860a77dcc220f138af2e72331708a50b873"
   },
   "outputs": [],
   "source": [
    "fit <- lm(son ~ father, data = train_set)\n",
    "fit$coef"
   ]
  },
  {
   "cell_type": "markdown",
   "metadata": {
    "_uuid": "78194d6750bfa09a6106e47280097df00bb2a26d"
   },
   "source": [
    "Now you can fix the b0 and b1 to your model using code below and you can see the mean diff has now reduced."
   ]
  },
  {
   "cell_type": "code",
   "execution_count": null,
   "metadata": {
    "_uuid": "f677ff8babbda83edc28b676d34ab4ca1ed3efc1"
   },
   "outputs": [],
   "source": [
    "y_hat <- fit$coef[1] + fit$coef[2]*test_set$father\n",
    "mean((y_hat - test_set$son)^2)"
   ]
  },
  {
   "cell_type": "markdown",
   "metadata": {
    "_uuid": "9200180813807cd5176fa05dbe4fd2877926d7fe"
   },
   "source": [
    "**67.1 The predict function**\n",
    "\n",
    "The predict function is very useful for machine learning applications. This function takes a fitted object from function such as lm or glm (we learn about glm soon) and a data frame with the new predictors for which to predict. So in our current example we would use predict like this:\n",
    "\n",
    "You notice you get the same result as above"
   ]
  },
  {
   "cell_type": "code",
   "execution_count": null,
   "metadata": {
    "_uuid": "349c0d4bd2669830ebc02d6df52ecfdfb269ea90"
   },
   "outputs": [],
   "source": [
    "y_hat <- predict(fit, test_set)\n",
    "mean((y_hat - test_set$son)^2)"
   ]
  },
  {
   "cell_type": "markdown",
   "metadata": {
    "_uuid": "a912b0af4fdafe51eb7bf7ae6aac84b7649da5d7"
   },
   "source": [
    "Predict does not always return objects of the same types; it depends on what type of object is sent to it. To learn about the specifics, you need to look at the help file specific for the type of fit object that is being used. The predict is a actually a special type of function in R (called a generic function) that calls other functions depending on what kind of object it receives. So if predict receives an object coming out of the lm function, it will call predict.lm. If it receives an object coming out of glm, it calls predict.glm. These two functions are similar but different. You can learn more about the differences by reading the help files: ?predict.lm  and ?predict.glm\n"
   ]
  },
  {
   "cell_type": "markdown",
   "metadata": {
    "_uuid": "1732c3d9f7c3c1aad7989ef6ab84d35d1d2f64bf"
   },
   "source": [
    "67.2 Regression for a categorical outcome\n",
    "The regression approach can also be applied to categorical data. To illustrate this, we will apply it to our previous predicting sex example:\n",
    "If we define the outcome  Y as 1 for females and 0 for males, and X as the height, in this case we are interested in the conditional probability:\n",
    "\n",
    "As an example, let’s provide a prediction for a student that is 66 inches tall. What is the conditional probability of being female if you are 66 inches tall? In our dataset we can estimate this by rounding to the nearest inch and computing:"
   ]
  },
  {
   "cell_type": "code",
   "execution_count": null,
   "metadata": {
    "_uuid": "d47dbad67ea93dcf0ac6c796ac56e852fc2ff374"
   },
   "outputs": [],
   "source": [
    "train_set %>% \n",
    "  filter(round(height)==66) %>%\n",
    "  summarize(mean(sex==\"Female\"))"
   ]
  },
  {
   "cell_type": "markdown",
   "metadata": {
    "_uuid": "7510324b83a6d8bbca3a2ba041cae0f22f43d0b4"
   },
   "source": [
    "We will define  Y=1 for females and  Y=0 for males. To construct a prediction algorithm, we want to estimate the proportion of the population that is female for any given height  \n",
    "X = x, which we write as the conditional probability described above:  Pr(Y=1|X=x). Let’s see what this looks like for several values of  x (we will remove values of  x with few data points):"
   ]
  },
  {
   "cell_type": "code",
   "execution_count": null,
   "metadata": {
    "_uuid": "79d21e0fc5fe5a53619e91ebc45c8388646ee291"
   },
   "outputs": [],
   "source": [
    "heights %>% \n",
    "  mutate(x = round(height)) %>%\n",
    "  group_by(x) %>%\n",
    "  filter(n() >= 10) %>%\n",
    "  summarize(prop = mean(sex == \"Female\")) %>%\n",
    "  ggplot(aes(x, prop)) +\n",
    "  geom_point()"
   ]
  },
  {
   "cell_type": "markdown",
   "metadata": {
    "_uuid": "8d8704e6fe41b201496f3ef6d9a279ebc806977c"
   },
   "source": [
    "Since the results from the plot above look close to linear, and it is the only approach we currently know, we will try regression. We assume that: p(x)=Pr(Y=1|X=x)=β0+β1x\n",
    "Note: because  p0(x)=1−p1(x), we will only estimate  p1(x) and drop the index. If we convert the factors to 0s and 1s, we can we can estimate  β0 and  β1 with least squares."
   ]
  },
  {
   "cell_type": "code",
   "execution_count": null,
   "metadata": {
    "_uuid": "6ec6cbad5793cf3fe644e44f812417633d291df7"
   },
   "outputs": [],
   "source": [
    "lm_fit <- mutate(train_set, y = as.numeric(sex == \"Female\")) %>%\n",
    "                lm(y ~ height, data = .)"
   ]
  },
  {
   "cell_type": "markdown",
   "metadata": {
    "_uuid": "a12994036f05f9c780c134fff9e6cffa55dcc943"
   },
   "source": [
    "Once we have estimates β0 and β1, we can obtain an actual prediction. Our estimate of the conditional probability p(x) is: p(x)=β0+β1xp(x)=β0+β1x\n",
    "To form a prediction we define a decision rule: predict female if p(x)>0.5p(x)>0.5. We can compare our predictions to the outcomes using:"
   ]
  },
  {
   "cell_type": "code",
   "execution_count": null,
   "metadata": {
    "_uuid": "2dc75f8f9e72f72a2e8524c49615b334a845bf3a"
   },
   "outputs": [],
   "source": [
    "p_hat <- predict(lm_fit, test_set)\n",
    "y_hat <- ifelse(p_hat > 0.5, \"Female\", \"Male\") %>% factor()\n",
    "confusionMatrix(y_hat, test_set$sex)"
   ]
  },
  {
   "cell_type": "markdown",
   "metadata": {
    "_uuid": "80a4e5e6879d751bde7a2e268821fd5c2d03666c"
   },
   "source": [
    "We see this method does substantially better than guessing."
   ]
  },
  {
   "cell_type": "markdown",
   "metadata": {
    "_uuid": "8f828cc6bd9eaa5bfd7a74bbbd3a42109e75e438"
   },
   "source": [
    "**Chapter 69 Logistic regression**\n",
    "The regression approach can be extended to categorical data. In this chapter we first illustrate how, for binary data, one can simply assign numeric values of 0 and 1 to the outcomes  y, and apply regression as if the data were continuous. We will then point out a limitation with this approach and introduce logistic regression as a solution. Logistic regression is specific case of a set of generalized linear models.\n",
    "\n",
    "**69.1 Linear regression for a binary outcome**\n",
    "To illustrate this, we will apply it to our previous predicting sex example:\n",
    "\n",
    "If we define the outcome  Y as 1 for females and 0 for males, and  X as the height, in this case we are interested in the conditional probability:\n",
    "\n",
    "Pr(Y=1∣X=x)\n",
    " \n",
    "As an example, let’s provide a prediction for a student that is 66 inches tall. What is the conditional probability of being female if you are 66 inches tall? In our dataset, we can estimate this by rounding to the nearest inch and computing:\n",
    "\n"
   ]
  },
  {
   "cell_type": "code",
   "execution_count": null,
   "metadata": {
    "_uuid": "f8d38d50f28e345da0d8536fdd94b454f1babbd5"
   },
   "outputs": [],
   "source": [
    "library(dplyr)\n",
    "train_set %>% \n",
    "  filter(round(height)==66) %>%\n",
    "  summarize(mean(sex==\"Female\"))"
   ]
  },
  {
   "cell_type": "code",
   "execution_count": null,
   "metadata": {
    "_uuid": "0d86b0514ee6a81cead69e94d6113b3a350cb9d8"
   },
   "outputs": [],
   "source": [
    "library(dslabs)\n",
    "data(\"olive\")\n",
    "table(olive$region)"
   ]
  },
  {
   "cell_type": "code",
   "execution_count": null,
   "metadata": {
    "_uuid": "45b48454524e946071b99fafa8ac25aedd543e41"
   },
   "outputs": [],
   "source": [
    "#We remove the area column because we won’t use it as a predictor.\n",
    "olive <- select(olive, -area)"
   ]
  },
  {
   "cell_type": "code",
   "execution_count": null,
   "metadata": {
    "_uuid": "e701262e077a5feadc14dcfbd727e6c5838109c6"
   },
   "outputs": [],
   "source": [
    "library(caret)\n",
    "fit <- train(region ~ .,  method = \"knn\", tuneGrid = data.frame(k = seq(1, 15, 2)), data = olive)\n",
    "ggplot(fit)"
   ]
  },
  {
   "cell_type": "code",
   "execution_count": null,
   "metadata": {
    "_uuid": "7404207c5955ed1262596941d00ec03b2632f25e"
   },
   "outputs": [],
   "source": [
    "library(tidyr)\n",
    "olive %>% gather(fatty_acid, percentage, -region) %>%\n",
    "  ggplot(aes(region, percentage, fill = region)) +\n",
    "  geom_boxplot() +\n",
    "  facet_wrap(~fatty_acid, scales = \"free\")"
   ]
  },
  {
   "cell_type": "code",
   "execution_count": null,
   "metadata": {
    "_uuid": "b97b38fa6fb3cd87aab6fb5ab22f61f9e021c19b"
   },
   "outputs": [],
   "source": [
    "p <- olive %>% \n",
    "  ggplot(aes(eicosenoic, linoleic, color = region)) + \n",
    "  geom_point()\n",
    "\n",
    "\n",
    "p + geom_vline(xintercept = 0.065, lty = 2) + \n",
    "  geom_segment(x = -0.2, y = 10.535, xend = 0.065, yend = 10.535, color = \"black\", lty = 2)"
   ]
  },
  {
   "cell_type": "markdown",
   "metadata": {
    "_uuid": "990980660a9178943833309a7a7dbaadcbc586d4"
   },
   "source": [
    "***Chapter 70 Case study: is it a 2 or a 7?***\n",
    "\n",
    "In the two simple examples above, we only had one predictor. We actually do not consider these machine learning challenges, which are characterized by cases with many predictors. Let’s go back to the digits example in which we had 784 predictors. For illustrative purposes, we will start by simplifying this problem to one with two predictors and two classes. Specifically, we define the challenge as building an algorithm that can determine if a digit is a 2 or 7 from the predictors. We are not quite ready to build algorithms with 784 predictors so we will extract two simple predictors from the 784: the proportion of dark pixels that are in the upper left quadrant (X1) and the lower right quadrant ( X2).\n",
    "\n",
    "We then select a random sample of 1,000 digits, 500 in the training set and 500 in the test set and provide them here:"
   ]
  },
  {
   "cell_type": "code",
   "execution_count": null,
   "metadata": {
    "_uuid": "118ee041018dce92b99c2b9a24adfb7a13b868ab"
   },
   "outputs": [],
   "source": [
    "library(dslabs)\n",
    "library(dplyr)\n",
    "library(ggplot2)\n",
    "data(\"mnist_27\")"
   ]
  },
  {
   "cell_type": "markdown",
   "metadata": {
    "_uuid": "368cf4eb8c1bced1c9e6dc0159cbd62a20d778f9"
   },
   "source": [
    "We can explore this data by plotting the two predictors and by using colors to denote the labels:"
   ]
  },
  {
   "cell_type": "code",
   "execution_count": null,
   "metadata": {
    "_uuid": "920e3dc05f7a29ea7039c14020dc6e344ab89e7d"
   },
   "outputs": [],
   "source": [
    "mnist_27$train %>% ggplot(aes(x_1, x_2, color = y)) +\n",
    "  geom_point()"
   ]
  },
  {
   "cell_type": "markdown",
   "metadata": {
    "_uuid": "2b0d8d433a98cc832c9dcfa6f02ebff4c5f4742e"
   },
   "source": [
    "We can immediately see some patterns. For example, if  \n",
    "X1 (the upper left panel) is very large, then the digit is probably a 7. Also, for smaller values of  \n",
    "X1, the 2s appear to be in the mid range values of  X2.\n",
    "\n",
    "These are the images of the digits with the largest and smallest values for  X1:"
   ]
  },
  {
   "cell_type": "code",
   "execution_count": null,
   "metadata": {
    "_uuid": "a9ee84090ce05ca1285757c264ade75c44626b8a"
   },
   "outputs": [],
   "source": [
    "fit <- glm(y ~ x_1 + x_2, data=mnist_27$train, family=\"binomial\")\n"
   ]
  },
  {
   "cell_type": "markdown",
   "metadata": {
    "_uuid": "a9631be30614f60f474b6ef38883626c2ad13b08"
   },
   "source": [
    "We can now build a decision rule based on the estimate of  ^p(x1,x2):"
   ]
  },
  {
   "cell_type": "code",
   "execution_count": null,
   "metadata": {
    "_uuid": "a1b8fed0d7f226a51e28d9e48201a4751e5c1722"
   },
   "outputs": [],
   "source": [
    "p_hat <- predict(fit, newdata = mnist_27$test)\n",
    "y_hat <- factor(ifelse(p_hat > 0.5, 7, 2))\n",
    "library(caret)\n",
    "confusionMatrix(data = y_hat, reference = mnist_27$test$y)"
   ]
  },
  {
   "cell_type": "markdown",
   "metadata": {
    "_uuid": "58b3c7dcac6f3e034660f10bb6a3badecec3666c"
   },
   "source": [
    "We get an accuracy of 0.79! Not bad for our first try. But can we do better?\n",
    "\n",
    "Because we constructed the mnist_27 example and we had at our disposal 60,000 digits in just the MNIST dataset, we used this to build the true conditional distribution  \n",
    "p(x1,x2). Keep in mind that this is something we don’t have access to in practice, but we include it in this example because it lets us compare  \n",
    "^p(x1,x2) to the true  p(x1,x2), which teaches us the limitations of different algorithms. Let’s do that here. We can access and plot  p(x1,x2) like this:"
   ]
  },
  {
   "cell_type": "code",
   "execution_count": null,
   "metadata": {
    "_uuid": "f972876114a7932a324f455c5d1bb793035e3d50"
   },
   "outputs": [],
   "source": [
    "mnist_27$true_p %>% ggplot(aes(x_1, x_2, fill=p)) +\n",
    "  geom_raster() "
   ]
  },
  {
   "cell_type": "markdown",
   "metadata": {
    "_uuid": "fbef321f6da6d06f18f4432675e91e7b4061a710"
   },
   "source": [
    "We will choose better colors and draw a curve that separates pairs  (x1,x2) for which  p(x1,x2)>0.5 and cases for which  p(x1,x2)<0.5:"
   ]
  },
  {
   "cell_type": "code",
   "execution_count": null,
   "metadata": {
    "_uuid": "253c3f0935894e8d25ec9f5fe40605059f14234e"
   },
   "outputs": [],
   "source": [
    "mnist_27$true_p %>% ggplot(aes(x_1, x_2, z=p, fill=p)) +\n",
    "  geom_raster() +\n",
    "  scale_fill_gradientn(colors=c(\"#F8766D\",\"white\",\"#00BFC4\")) +\n",
    "  stat_contour(breaks=c(0.5),color=\"black\")"
   ]
  },
  {
   "cell_type": "markdown",
   "metadata": {
    "_uuid": "4d59bcdfdc8c19bbdc2d268bf529fe5fa08f103e"
   },
   "source": [
    "So above you see a plot of the true  p(x,y) . To start understanding the limitations of logistic regression here, first, note that with logistic regression  ^p(x,y) has to be a plane and, as a result, the boundary defined by the decision rule is given by:  ^p(x,y) = 0.5 which implies the boundary can’t be anything other than a straight line:\n",
    "\n",
    "This implies that our logistic regression approach has no chance of capturing the non-linear nature"
   ]
  },
  {
   "cell_type": "code",
   "execution_count": null,
   "metadata": {
    "_uuid": "5c3d7cd3e2a8ae88b3c4c73a6771b34e45ca9508"
   },
   "outputs": [],
   "source": [
    "p_hat <- predict(fit, newdata = mnist_27$true_p)\n",
    "mnist_27$true_p %>% mutate(p_hat = p_hat) %>%\n",
    "  ggplot(aes(x_1, x_2,  z=p_hat, fill=p_hat)) +\n",
    "  geom_raster() +\n",
    "  scale_fill_gradientn(colors=c(\"#F8766D\",\"white\",\"#00BFC4\")) +\n",
    "  stat_contour(breaks=c(0.5),color=\"black\") "
   ]
  },
  {
   "cell_type": "markdown",
   "metadata": {
    "_uuid": "204419894a1c4b09f24340519ccec57c039a1b96"
   },
   "source": [
    "We can see where the mistakes were made mainly come from low values  x1 that have either high or low value of  x2. Logistic regression can’t catch this."
   ]
  },
  {
   "cell_type": "code",
   "execution_count": null,
   "metadata": {
    "_uuid": "b7e3f4846c9db9c9ca37464f24054ab3cce4f9a3"
   },
   "outputs": [],
   "source": [
    "p_hat <- predict(fit, newdata = mnist_27$true_p)\n",
    "mnist_27$true_p %>% mutate(p_hat = p_hat) %>%\n",
    "  ggplot() +\n",
    "  stat_contour(aes(x_1, x_2, z=p_hat), breaks=c(0.5), color=\"black\") + \n",
    "  geom_point(mapping = aes(x_1, x_2, color=y), data = mnist_27$test) "
   ]
  },
  {
   "cell_type": "markdown",
   "metadata": {
    "_uuid": "0dd900041006fa14b502d4446f69c006390ec9fd"
   },
   "source": [
    "We need something more flexible. A method that permits estimates with shapes other than a plane.\n",
    "\n",
    "We are going to learn a few new algorithms based on different ideas and concepts. But what they all have in common is that they permit more flexible approaches. We will start by describing nearest neighbor and kernel approaches. To introduce the concepts behinds these approaches, we will again start with a simple one dimensional example and describe the concept of smoothing."
   ]
  },
  {
   "cell_type": "code",
   "execution_count": null,
   "metadata": {
    "_uuid": "468816158f900c933f2899cc34888c99f65fda7a"
   },
   "outputs": [],
   "source": []
  },
  {
   "cell_type": "markdown",
   "metadata": {
    "_uuid": "b332aeaa2a6a25be53b3a8e01995a74a1d83c111"
   },
   "source": [
    "**80.3 Regression tree**\n",
    "When the outcome is continuous, we call this method regression trees. We will use a continuous case, the 2008 poll data introduced earlier, to describe the basic idea of how we build these algorithms. We will try to estimate the conditional expectation  \n",
    "f(x)=E(Y|X=x) with  Y the poll margin and  x the day."
   ]
  },
  {
   "cell_type": "code",
   "execution_count": null,
   "metadata": {
    "_uuid": "d98f83c0e8392e4ce3b6393cb144c3a8d7bfe5d9"
   },
   "outputs": [],
   "source": [
    "data(\"polls_2008\")\n",
    "qplot(day, margin, data = polls_2008)"
   ]
  },
  {
   "cell_type": "code",
   "execution_count": null,
   "metadata": {
    "_uuid": "374afa139b90a5f7cd34e86b2487be63fc906cea"
   },
   "outputs": [],
   "source": [
    "library(rpart)\n",
    "fit <- rpart(margin ~ ., data = polls_2008)\n",
    "fit"
   ]
  },
  {
   "cell_type": "code",
   "execution_count": null,
   "metadata": {
    "_uuid": "8c0417b5fe5e0a121f64674c96285f153af33c88"
   },
   "outputs": [],
   "source": [
    "fit"
   ]
  },
  {
   "cell_type": "code",
   "execution_count": null,
   "metadata": {
    "_uuid": "4e32131a122b81f4e962ce02c6972a658b8e3b85"
   },
   "outputs": [],
   "source": [
    "plot(fit, margin = 0.2)\n",
    "text(fit, cex = 0.7)"
   ]
  },
  {
   "cell_type": "code",
   "execution_count": null,
   "metadata": {
    "_uuid": "ce1485bbeaaeb4311039004b9c455034ea6f88d7"
   },
   "outputs": [],
   "source": [
    "polls_2008 %>% \n",
    "  mutate(y_hat = predict(fit)) %>% \n",
    "  ggplot() +\n",
    "  geom_point(aes(day, margin)) +\n",
    "  geom_step(aes(day, y_hat), col=\"red\")"
   ]
  },
  {
   "cell_type": "markdown",
   "metadata": {
    "_uuid": "366eedbd985561b59671071486d8903684c80372"
   },
   "source": [
    "**Playing around**"
   ]
  },
  {
   "cell_type": "code",
   "execution_count": null,
   "metadata": {
    "_uuid": "06efc23e520f50158aa4db02f15f673e0c59fd2c"
   },
   "outputs": [],
   "source": [
    "head(polls_2008)"
   ]
  },
  {
   "cell_type": "code",
   "execution_count": null,
   "metadata": {
    "_uuid": "82a409e5edcd043a3572e5774529979f0cc8ebb3"
   },
   "outputs": [],
   "source": [
    "data(\"polls_2008\")\n",
    "qplot(day, margin, data = polls_2008)"
   ]
  },
  {
   "cell_type": "code",
   "execution_count": null,
   "metadata": {
    "_uuid": "6db128c914efee29b73c31ee808e767ee70f69ad"
   },
   "outputs": [],
   "source": [
    "mnist <- read_mnist()"
   ]
  },
  {
   "cell_type": "code",
   "execution_count": null,
   "metadata": {
    "_uuid": "37b6d0ffd73e977fd487b533bb8602f7836fc978"
   },
   "outputs": [],
   "source": [
    "a <- lm(margin~day, data = polls_2008)\n",
    "a$residual"
   ]
  },
  {
   "cell_type": "code",
   "execution_count": null,
   "metadata": {
    "_uuid": "9f2977e2a60938b153b5da60ce02ea0e6322c44a"
   },
   "outputs": [],
   "source": [
    "library(dslabs)\n",
    "library(dplyr)\n",
    "library(lubridate)\n",
    "\n",
    "data(\"reported_heights\")\n",
    "\n",
    "dat <- mutate(reported_heights, date_time = ymd_hms(time_stamp)) %>%\n",
    "  filter(date_time >= make_date(2016, 01, 25) & date_time < make_date(2016, 02, 1)) %>%\n",
    "  mutate(type = ifelse(day(date_time) == 25 & hour(date_time) == 8 & between(minute(date_time), 15, 30), \"inclass\",\"online\")) %>%\n",
    "  select(sex, type)\n",
    "\n",
    "y <- factor(dat$sex, c(\"Female\", \"Male\"))\n",
    "x <- dat$type"
   ]
  },
  {
   "cell_type": "code",
   "execution_count": null,
   "metadata": {
    "_uuid": "65c7fd2fe8b3e97d520f746f3562dc6ab96bb1be"
   },
   "outputs": [],
   "source": [
    "dat %>% \n",
    "  group_by(type) %>%\n",
    "  summarize(prop = mean(sex == \"Female\")) "
   ]
  },
  {
   "cell_type": "code",
   "execution_count": null,
   "metadata": {
    "_uuid": "d3206cc9bcd2f7740e99b194594a74d08b770d66"
   },
   "outputs": [],
   "source": []
  },
  {
   "cell_type": "code",
   "execution_count": null,
   "metadata": {
    "_uuid": "ac497cbe904ce502bd262caf81cfa0963a086f76"
   },
   "outputs": [],
   "source": [
    "library(caret)\n",
    "data(iris)\n",
    "iris <- iris[-which(iris$Species=='setosa'),]\n",
    "y <- iris$Species"
   ]
  },
  {
   "cell_type": "code",
   "execution_count": null,
   "metadata": {
    "_uuid": "c9c02cc8e7bcbe4f2bdb71de36830bf495046c08"
   },
   "outputs": [],
   "source": [
    "set.seed(2)\n",
    "# line of code\n",
    "test_index <- createDataPartition(y,times=1,p=0.5,list=FALSE) \n",
    "test <- iris[test_index,]\n",
    "train <- iris[-test_index,]"
   ]
  },
  {
   "cell_type": "markdown",
   "metadata": {
    "_uuid": "84c1bf60173ca13974b763ecf476ea34a674b23a"
   },
   "source": [
    "Finding which feature provide the best outcome\n",
    "How to interprete the foo function  below \n",
    "\n",
    "1. normal function with input of x\n",
    "2. work out the range and put it to rangedvalues with increment of 0.1\n",
    "3. now, apply the values from range to another function i using sapply\n",
    "4. "
   ]
  },
  {
   "cell_type": "code",
   "execution_count": null,
   "metadata": {
    "_uuid": "7f2d6b083e8a95bacde2ae7f33a306e4b42682cc"
   },
   "outputs": [],
   "source": [
    "head(train,10)"
   ]
  },
  {
   "cell_type": "code",
   "execution_count": null,
   "metadata": {
    "_uuid": "53c2a112a53b9edad400d5cc227fd7278f9d07d1"
   },
   "outputs": [],
   "source": [
    "rangedValues <- seq(range(train$Petal.Width)[1],range(train$Petal.Width)[2],by=0.1)\n",
    "rangedValues\n",
    "summary(train$Petal.Width)"
   ]
  },
  {
   "cell_type": "code",
   "execution_count": null,
   "metadata": {
    "_uuid": "830c37a6074907c0ce76b7f626c737e949aaa9e0"
   },
   "outputs": [],
   "source": [
    "length(train$Petal.Width)\n",
    "rangedValues"
   ]
  },
  {
   "cell_type": "code",
   "execution_count": null,
   "metadata": {
    "_uuid": "61d47f62a3a9e85746367bebcd3e0179e199fc45"
   },
   "outputs": [],
   "source": [
    "head(test)"
   ]
  },
  {
   "cell_type": "markdown",
   "metadata": {
    "_uuid": "91d1503e788dd91381884a8d21bd309ad85bc0fb"
   },
   "source": [
    "from results below you can see if picks up all rows in a column and run against the ranged, in this case the lowest is 4.9 and run against every single row. "
   ]
  },
  {
   "cell_type": "code",
   "execution_count": null,
   "metadata": {
    "_uuid": "19259ef75139711156608d548efe01e501dc9e81"
   },
   "outputs": [],
   "source": [
    "apply(test[,c(1,2)],2,foo)\n",
    "\n",
    "#test[,c(1,2)]"
   ]
  },
  {
   "cell_type": "code",
   "execution_count": null,
   "metadata": {
    "_uuid": "5bc9e275bb57fd6802394ebfb4d325bb127e358b"
   },
   "outputs": [],
   "source": [
    "predictions\n"
   ]
  },
  {
   "cell_type": "code",
   "execution_count": null,
   "metadata": {
    "_uuid": "81a5434288220fedba6983755bbc98a4e280e29d"
   },
   "outputs": [],
   "source": [
    "seq(range(train$Sepal.Length)[1],range(train$Sepal.Length)[2],by=0.1)\n",
    "min(train$Sepal.Length)\n",
    "max(train$Sepal.Length)"
   ]
  },
  {
   "cell_type": "code",
   "execution_count": null,
   "metadata": {
    "_uuid": "34e2f627fb6b007d573b3ca86fd3a3e2077b21c4"
   },
   "outputs": [],
   "source": [
    "head(train,10)"
   ]
  },
  {
   "cell_type": "code",
   "execution_count": null,
   "metadata": {
    "_uuid": "58166eb23455352b6bb24af055e1555c1b20993c"
   },
   "outputs": [],
   "source": [
    "foo <- function(x){\n",
    "    rangedValues <- seq(range(x)[1],range(x)[2],by=0.1)\n",
    "    sapply(rangedValues,function(i){\n",
    "    y_hat <- ifelse(x>i,'virginica','versicolor')\n",
    "    mean(y_hat==train$Species)})\n",
    "}\n",
    "predictions <- apply(test[,-5],2,foo)\n",
    "sapply(predictions,max)\n",
    "\n"
   ]
  },
  {
   "cell_type": "code",
   "execution_count": null,
   "metadata": {
    "_uuid": "eec2c33442bc92e6e6aef8f0e5803e53787e435b"
   },
   "outputs": [],
   "source": [
    "b <- train[,-5]\n",
    "\n",
    "\n",
    "myfn <- function(y){\n",
    "    range <- seq(range(y)[1],range(y)[2],by=0.1)\n",
    "    sapply(range,function(x){   \n",
    "    y_hat <- ifelse(x>y,'versicolor','virginica')\n",
    "    mean(y_hat==train$Species)\n",
    "  }) \n",
    "}\n",
    "\n",
    "forecast <- apply(b,2,myfn)\n",
    "sapply(forecast,max)\n",
    "sapply(forecast,which.max)\n",
    "\n",
    "\n"
   ]
  },
  {
   "cell_type": "code",
   "execution_count": null,
   "metadata": {
    "_uuid": "19f2ba3d7e748ae3ffaba5d577116c163d9d7d04"
   },
   "outputs": [],
   "source": [
    "a <- seq(range(train$Petal.Length)[1],range(train$Petal.Length)[2],by=0.1)\n",
    "b <- seq(range(train$Petal.Width)[1],range(train$Petal.Width)[2],by=0.1)\n",
    "a[19]\n",
    "b[7]"
   ]
  },
  {
   "cell_type": "code",
   "execution_count": null,
   "metadata": {
    "_uuid": "2ced99364e4592ef609e60caf70c21bd3f38c33a"
   },
   "outputs": [],
   "source": [
    "library(caret)\n",
    "data(iris)\n",
    "iris <- iris[-which(iris$Species=='setosa'),]\n",
    "y <- iris$Species\n",
    "\n",
    "plot(iris,pch=21,bg=iris$Species)\n",
    "\n",
    "set.seed(2)\n",
    "test_index <- createDataPartition(y,times=1,p=0.5,list=FALSE)\n",
    "test <- iris[test_index,]\n",
    "train <- iris[-test_index,]\n",
    "\n",
    "petalLengthRange <- seq(range(train[,3])[1],range(train[,3])[2],by=0.1)\n",
    "petalWidthRange <- seq(range(train[,4])[1],range(train[,4])[2],by=0.1)\n",
    "cutoffs <- expand.grid(petalLengthRange,petalWidthRange)\n",
    "\n",
    "id <- sapply(seq(nrow(cutoffs)),function(i){\n",
    "y_hat <- ifelse(train[,3]>cutoffs[i,1] | train[,4]>cutoffs[i,2],'virginica','versicolor')\n",
    "mean(y_hat==train$Species)\n",
    "}) %>% which.max\n",
    "\n",
    "optimalCutoff <- cutoffs[id,] %>% as.numeric\n",
    "y_hat <- ifelse(test[,3]>optimalCutoff[1] & test[,4]>optimalCutoff[2],'virginica','versicolor')\n",
    "mean(y_hat==test$Species)"
   ]
  },
  {
   "cell_type": "code",
   "execution_count": null,
   "metadata": {
    "_uuid": "2b8b7d36fa502ed7ff3bf8b53f4ae45cce41c31b"
   },
   "outputs": [],
   "source": [
    "\n",
    " y_hat <- ifelse(train$Petal.Length < 4.8 | train$Petal.Width < 1.6, \"versicolor\", \"virginica\") %>% factor(levels = levels(test$Species))\n",
    "confusionMatrix(y_hat,test$Species)"
   ]
  },
  {
   "cell_type": "code",
   "execution_count": null,
   "metadata": {
    "_uuid": "83f3f520d35bae56f1f5da02e8d657135f409a37"
   },
   "outputs": [],
   "source": [
    "forecast"
   ]
  },
  {
   "cell_type": "code",
   "execution_count": null,
   "metadata": {
    "_uuid": "230758c8dbbcb285678ef58e4a57796235c8e90c"
   },
   "outputs": [],
   "source": [
    "foo <- function(x){\n",
    "    rangedValues <- seq(range(x)[1],range(x)[2],by=0.1)\n",
    "    sapply(rangedValues,function(i){\n",
    "    y_hat <- ifelse(x>i,'virginica','versicolor')\n",
    "    mean(y_hat==train$Species)})\n",
    "}\n",
    "predictions <- apply(test[,-5],2,foo)\n",
    "sapply(predictions,max)\n"
   ]
  },
  {
   "cell_type": "markdown",
   "metadata": {
    "_uuid": "ac57f2b43981b63cb00114eb42d92e0e4d36dbcd"
   },
   "source": [
    "**Cut off formula (Original)**"
   ]
  },
  {
   "cell_type": "code",
   "execution_count": null,
   "metadata": {
    "_uuid": "99ad03d66e89220df960e47b7c3dc8e83428b512"
   },
   "outputs": [],
   "source": [
    "cutoff <- seq(61, 70)\n",
    "accuracy <- sapply(cutoff, function(x){\n",
    "  y_hat <- ifelse(train_set$height > x, \"Male\", \"Female\") %>% factor(levels = levels(test_set$sex))\n",
    "  mean(y_hat == train_set$sex)\n",
    "})\n",
    "\n",
    "\n",
    "max(accuracy)\n",
    "\n",
    "best_cutoff <- cutoff[which.max(accuracy)]\n",
    "best_cutoff\n",
    "\n",
    "\n",
    "y_hat <- ifelse(test_set$height > best_cutoff, \"Male\", \"Female\") %>% factor(levels = levels(test_set$sex))\n",
    "y_hat <- factor(y_hat)\n",
    "mean(y_hat == test_set$sex)"
   ]
  },
  {
   "cell_type": "code",
   "execution_count": null,
   "metadata": {
    "_uuid": "40870ee53b32c73946b452adb12d8665f151abe1"
   },
   "outputs": [],
   "source": [
    "summary(train)"
   ]
  },
  {
   "cell_type": "code",
   "execution_count": null,
   "metadata": {
    "_uuid": "66dbf9119ca0a2bbcea5674f15277f8ef9c9cd5e"
   },
   "outputs": [],
   "source": [
    "cutoff <- seq(1, 2.5)\n",
    "accuracy <- sapply(cutoff, function(x){\n",
    "  y_hat <- ifelse(train$Petal.Width > x, \"versicolor\", \"virginica\") %>% factor(levels = levels(test$Species))\n",
    "  mean(y_hat == train$Species)\n",
    "})\n",
    "\n",
    "max(accuracy)\n",
    "\n",
    "best_cutoff <- cutoff[which.max(accuracy)]\n",
    "best_cutoff\n",
    "\n",
    "accuracy"
   ]
  },
  {
   "cell_type": "code",
   "execution_count": null,
   "metadata": {
    "_uuid": "2d41b5f706db305400bf43bbec7f9b2d5bf37773"
   },
   "outputs": [],
   "source": [
    "cutoff <- seq(3, 6.9)\n",
    "accuracy <- sapply(cutoff, function(x){\n",
    "  y_hat <- ifelse(train$Petal.Length < x, \"versicolor\", \"virginica\") %>% factor(levels = levels(test$Species))\n",
    "  mean(y_hat == train$Species)\n",
    "})\n",
    "\n",
    "max(accuracy)\n",
    "\n",
    "best_cutoff <- cutoff[which.max(accuracy)]\n",
    "best_cutoff\n"
   ]
  },
  {
   "cell_type": "code",
   "execution_count": null,
   "metadata": {
    "_uuid": "9978532d88c5bc23733bae9baa98ea98509f9f8b"
   },
   "outputs": [],
   "source": [
    " y_hat <- ifelse(test$Petal.Length < 5, \"versicolor\", \"virginica\") %>% factor(levels = levels(test$Species))\n",
    "confusionMatrix(y_hat,test$Species)"
   ]
  },
  {
   "cell_type": "code",
   "execution_count": null,
   "metadata": {
    "_uuid": "df91f39b244c0b88ef13c955ea7f9ede369dcc2e"
   },
   "outputs": [],
   "source": [
    "# combined petal length and width\n",
    "train$x <- train$Petal.Length + train$Petal.Width\n",
    "head(train)"
   ]
  },
  {
   "cell_type": "code",
   "execution_count": null,
   "metadata": {
    "_uuid": "1ff0f11d0f691599c14f1f681df69b7c51493392"
   },
   "outputs": [],
   "source": [
    "summary(train)"
   ]
  },
  {
   "cell_type": "code",
   "execution_count": null,
   "metadata": {
    "_uuid": "f8394f6a1c74529dd39702456d3fd161a32fd3a1"
   },
   "outputs": [],
   "source": [
    "accuracy\n",
    "best_cutoff"
   ]
  },
  {
   "cell_type": "code",
   "execution_count": null,
   "metadata": {
    "_uuid": "ca04122acfc5e17c7e0f5bde0991ad6ce215c3f0"
   },
   "outputs": [],
   "source": [
    "library(dplyr)\n",
    "library(purrr)\n",
    "cutoff <- seq(3, 6.9, by=0.1)\n",
    "accuracy <- map_dbl(cutoff, function(x){\n",
    "  y_hat <- ifelse(train$Petal.Length < x, \"versicolor\", \"virginica\") %>% factor(levels = levels(test$Species))\n",
    "  mean(y_hat == train$Species)\n",
    "})\n",
    "\n",
    "max(accuracy)\n",
    "\n",
    "best_cutoff <- cutoff[which.max(accuracy)]\n",
    "best_cutoff\n",
    "\n",
    "plot(cutoff,accuracy,type='o')\n",
    "\n",
    " y_hat <- ifelse(train$Petal.Length < best_cutoff, \"versicolor\", \"virginica\") %>% factor(levels = levels(test$Species))\n",
    "confusionMatrix(y_hat,test$Species)"
   ]
  },
  {
   "cell_type": "code",
   "execution_count": null,
   "metadata": {
    "_uuid": "1cb1805a909e3c4f872139311f8d179055a241f6"
   },
   "outputs": [],
   "source": [
    "library(dplyr)\n",
    "library(purrr)\n",
    "cutoff <- seq(1, 6.9)\n",
    "accuracy <- map_dbl(cutoff, function(x){\n",
    "  y_hat <- ifelse(train$Petal.Length > x | train$Petal.Width > x, \"versicolor\", \"virginica\") %>% factor(levels = levels(test$Species))\n",
    "  mean(y_hat == train$Species)\n",
    "})\n",
    "\n",
    "max(accuracy)\n",
    "\n",
    "best_cutoff <- cutoff[which.max(accuracy)]\n",
    "best_cutoff\n",
    "\n",
    " y_hat <- ifelse(train$Petal.Length < best_cutoff | train$Petal.Width < best_cutoff, \"versicolor\", \"virginica\") %>% factor(levels = levels(test$Species))\n",
    "confusionMatrix(y_hat,test$Species)"
   ]
  },
  {
   "cell_type": "markdown",
   "metadata": {
    "_uuid": "1155a6dc2de42319df9f2f199d40c85d0aac272f"
   },
   "source": [
    "**CONDITIONAL PROBABILITY**\n",
    "\n",
    "In a previous module, we covered Bayes' theorem and the Bayesian paradigm. Conditional probabilities are a fundamental part of this previous covered rule.\n",
    "\n",
    "We first review a simple example to go over conditional probabilities.\n",
    "\n",
    "Assume a patient comes into the doctor’s office to test whether they have a particular disease.\n",
    "\n",
    "* The disease is prevalent in about 2% of the community: p(disease)\n",
    "* p(healthy) : 100% - 2% = 98%\n",
    "* If you split disease down, then prob is 85% positive and 15% negative --> p( positive|disease) = 85%   &  p( negative|disease) = 15% \n",
    "* If you split healthy down, then prob is 10% positive and 90% negative --> p( positive|healthy) = 10%    &  p( negative|healthy) = 90% \n",
    "\n",
    "You can then broken down these to numbers to make sense how the probability is calculated. \n",
    "\n",
    "E.g total is 1,000,000 population\n",
    "\n",
    "* p(healthy) = 98% * 1,000,000 = 980,000\n",
    "* p(disease) = 2% * 1,000,000 =      20,000\n",
    "\n",
    "* p(positive|healthy) = 98% * 1,000,000 * 10%   =     98,000  -->** but when they say p(positive|healthy) they don't take account the 98% just 10%. same with below ****\n",
    "* p(negative|healthy) = 98% * 1,000,000 * 90% =   882,000\n",
    "\n",
    "* p(positive|disease) =  2% * 1,000,000 * 85%    =     17,000\n",
    "* p(negative|disease) = 2% * 1,000,000 * 15%    =       3,000 \n",
    "\n",
    "so the following calculation will make sense based on the above\n",
    "* p(positive)  = (98% * 10%) + (2%*85%)\n",
    "* p(negative) = (98%*90%) + (98%*15%)\n",
    "* p(disease|positive) is these values  17,000/(17,000+98,000) = 0.147826086956522\n",
    "\n",
    "if you use textbook it is the same as p(disease)/p(positive) * p(positive|disease)\n",
    "\n",
    "Below will explain the logic on how it gets to that \n",
    "\n",
    "17,000/(17,000+98,000) = p(positive|disease) * p(disease) /** ( p(positive|disease) * p(disease) ) + ( p(positive|healthy) * p(healthy))**\n",
    "\n",
    "And we know the one below in bold = p(positive)\n",
    "\n",
    "So the final equation :\n",
    "p(disease|positive) = p(positive|disease) * p(disease)/p(positive)"
   ]
  },
  {
   "cell_type": "markdown",
   "metadata": {
    "_uuid": "834ef10adb67a5e6309d4d635c5c9567186e0f60"
   },
   "source": [
    "The following 4 questions (Q2-Q5) all relate to implementing this calculation using R.\n",
    "\n",
    "We have a hypothetical population of 1 million individuals with the following conditional probabilities as described below:\n",
    "\n",
    "The test is positive 85% of the time when tested on a patient with the disease (high sensitivity): \n",
    "The test is negative 90% of the time when tested on a healthy patient (high specificity): \n",
    "The disease is prevalent in about 2% of the community: \n",
    "Here is some sample code to get you started:\n",
    "\n",
    "set.seed(1)\n",
    "disease <- sample(c(0,1), size=1e6, replace=TRUE, prob=c(0.98,0.02))\n",
    "test <- rep(NA, 1e6)\n",
    "test[disease==0] <- sample(c(0,1), size=sum(disease==0), replace=TRUE, prob=c(0.90,0.10))\n",
    "test[disease==1] <- sample(c(0,1), size=sum(disease==1), replace=TRUE, prob=c(0.15, 0.85))"
   ]
  },
  {
   "cell_type": "code",
   "execution_count": null,
   "metadata": {
    "_uuid": "fea465d879dce652c1d515dd65c9ced98918d6c3"
   },
   "outputs": [],
   "source": [
    "P(disease|test-) = P(Disease)/P(test-) * P(test-|disease)\n",
    "\n",
    "     = 0.02*0.15/0.885"
   ]
  },
  {
   "cell_type": "code",
   "execution_count": null,
   "metadata": {
    "_uuid": "df0b51da3e3c6ba74848e8cbeba1edd4964cb73d"
   },
   "outputs": [],
   "source": [
    "p(disease)"
   ]
  },
  {
   "cell_type": "code",
   "execution_count": null,
   "metadata": {
    "_uuid": "ac615aa8ccdcfb606454c7498b506b851f4f5b2b"
   },
   "outputs": [],
   "source": [
    "set.seed(1)\n",
    "disease <- sample(c(0,1), size=1e6, replace=TRUE, prob=c(0.98,0.02))\n",
    "test <- rep(NA, 1e6)\n",
    "test[disease==0] <- sample(c(0,1), size=sum(disease==0), replace=TRUE, prob=c(0.90,0.10))\n",
    "test[disease==1] <- sample(c(0,1), size=sum(disease==1), replace=TRUE, prob=c(0.15, 0.85))"
   ]
  },
  {
   "cell_type": "code",
   "execution_count": null,
   "metadata": {
    "_uuid": "6d1c6e74aea30259174de9de7d0dd267748a181c"
   },
   "outputs": [],
   "source": [
    "sum(test==0)\n",
    "sum(disease==0)"
   ]
  },
  {
   "cell_type": "code",
   "execution_count": null,
   "metadata": {
    "_uuid": "e833ef39a419edbec1333b0e798099557e32751f"
   },
   "outputs": [],
   "source": [
    "\n",
    "mean(disease[test==0])"
   ]
  },
  {
   "cell_type": "code",
   "execution_count": null,
   "metadata": {
    "_uuid": "28d7e8b136cadea1174690d22124bd49e40a1158"
   },
   "outputs": [],
   "source": [
    "mean(disease[test==1]==1)"
   ]
  },
  {
   "cell_type": "code",
   "execution_count": null,
   "metadata": {
    "_uuid": "9ff1eceacda578f62c423c53245c180c78e3537b"
   },
   "outputs": [],
   "source": [
    "(sum(a==0)-sum(b==0))/sum(b==0)\n"
   ]
  },
  {
   "cell_type": "code",
   "execution_count": null,
   "metadata": {
    "_uuid": "cc15130f726187654b750f8c36cc1a250de3c3b8"
   },
   "outputs": [],
   "source": [
    "a <- c(1,1,0,0,1,0,0,0)\n",
    "b <- c(1,0,1,0,0,1,0,1)\n",
    "mean(b[a==0])\n",
    "mean(disease==1)"
   ]
  },
  {
   "cell_type": "code",
   "execution_count": null,
   "metadata": {
    "_uuid": "ef1b767bf311781c66b8dbbfeee029d4c9a599ba"
   },
   "outputs": [],
   "source": [
    "set.seed(1)\n",
    "disease <- sample(c(0,1), size=20, replace=TRUE, prob=c(0.98,0.02))\n",
    "test <- rep(NA, 20)\n",
    "test[disease==0] <- sample(c(0,1), size=sum(disease==0), replace=TRUE, prob=c(0.90,0.10))\n",
    "test[disease==1] <- sample(c(0,1), size=sum(disease==1), replace=TRUE, prob=c(0.15, 0.85))\n"
   ]
  },
  {
   "cell_type": "code",
   "execution_count": null,
   "metadata": {
    "_uuid": "7d1367f9d8839246eb5592b15f316cd608634ee7"
   },
   "outputs": [],
   "source": [
    "#RR = P(disease | test+) / P(disease)\n",
    "\n",
    "0.1478261/0.019918"
   ]
  },
  {
   "cell_type": "code",
   "execution_count": null,
   "metadata": {
    "_uuid": "382b91d2f5b8ee718529047de6984bc8b6801e06"
   },
   "outputs": [],
   "source": [
    "sum(disease)/length(disease)"
   ]
  },
  {
   "cell_type": "code",
   "execution_count": null,
   "metadata": {
    "_uuid": "378c533f8e68aa89659ca87b13fbf63ccd55cfc6"
   },
   "outputs": [],
   "source": [
    "library(dplyr)\n",
    "test %>% summarize(mean(disease))"
   ]
  },
  {
   "cell_type": "code",
   "execution_count": null,
   "metadata": {
    "_uuid": "faabba8280bff7bf303a063935d4bc5c19d491b5"
   },
   "outputs": [],
   "source": [
    "heights$true"
   ]
  },
  {
   "cell_type": "code",
   "execution_count": null,
   "metadata": {
    "_uuid": "2265f7f0f6daff39946af9df76218308609359e7"
   },
   "outputs": [],
   "source": [
    "library(dplyr)\n",
    "library(dslabs)\n",
    "data(\"heights\")\n",
    "library(\"ggplot2\")\n",
    "\n",
    "\n",
    "heights %>% \n",
    "mutate(height = round(height)) %>%\n",
    "group_by(height) %>%\n",
    "summarize(p = mean(sex == \"Male\")) %>%\n",
    "\n",
    "\n",
    "qplot(height, p, data =.)\n",
    "\n"
   ]
  },
  {
   "cell_type": "code",
   "execution_count": null,
   "metadata": {
    "_uuid": "d0c1f11ffeb42bdc427647d680ff29e48ca8eaec"
   },
   "outputs": [],
   "source": [
    "library(dplyr)\n",
    "library(dslabs)\n",
    "data(\"heights\")\n",
    "library(\"ggplot2\")\n",
    "\n",
    "\n",
    "heights %>% \n",
    "mutate(height = round(height)) %>%\n",
    "group_by(height) %>%\n",
    "summarize(p = mean(sex == \"Male\")) %>%\n",
    "\n",
    "\n",
    "qplot(height, p, data =.)\n",
    "\n",
    "\n",
    "cut(x, quantile(x, seq(0, 1, 0.1)), include.lowest = TRUE)"
   ]
  },
  {
   "cell_type": "code",
   "execution_count": null,
   "metadata": {
    "_uuid": "f9f4ea7dce708ceb32175a9f67ecc6d44a65291e"
   },
   "outputs": [],
   "source": [
    "\n",
    "#q1 \n",
    "library(dplyr)\n",
    "library(caret)\n",
    "set.seed(1)\n",
    "n <- 100\n",
    "Sigma <- 9*matrix(c(1.0, 0.5, 0.5, 1.0), 2, 2)\n",
    "dat <- MASS::mvrnorm(n = 100, c(69, 69), Sigma) %>%\n",
    "data.frame() %>% setNames(c(\"x\", \"y\"))"
   ]
  },
  {
   "cell_type": "code",
   "execution_count": null,
   "metadata": {
    "_uuid": "f49205d28d3a281552d703b4fd86a346f939b2d0"
   },
   "outputs": [],
   "source": [
    "set.seed(1)\n",
    "index <- createDataPartition(dat$y, times = 1, p = 0.5, list = FALSE)"
   ]
  },
  {
   "cell_type": "code",
   "execution_count": null,
   "metadata": {
    "_uuid": "d2a00730d9ecc0af6a8c760d935b395567094126"
   },
   "outputs": [],
   "source": [
    "train <- dat %>% slice(-index)\n",
    "test <- dat %>% slice(index)"
   ]
  },
  {
   "cell_type": "code",
   "execution_count": null,
   "metadata": {
    "_uuid": "f2d10ca80d058f796cf34a25b2cf1c79111d2ab5"
   },
   "outputs": [],
   "source": [
    "fit <- lm(y ~ x, data = train)\n",
    "fit$coef"
   ]
  },
  {
   "cell_type": "code",
   "execution_count": null,
   "metadata": {
    "_uuid": "9a10570a04ce08f4f0dd9c5d036bda8999087797"
   },
   "outputs": [],
   "source": [
    "y_hat <- predict(fit, test)\n",
    "RMSE <- sqrt(mean((y_hat - test$y)^2))\n",
    "RMSE"
   ]
  },
  {
   "cell_type": "code",
   "execution_count": null,
   "metadata": {
    "_uuid": "f21d2bf0435cf4872170a3c2ac2e93390df39e64"
   },
   "outputs": [],
   "source": [
    "library(caret)\n",
    "set.seed(1)\n",
    "b <- replicate(100,{\n",
    "    index <- createDataPartition(dat$y, times = 1, p = 0.5, list = FALSE)\n",
    "    train <- dat %>% slice(-index)\n",
    "    test <- dat %>% slice(index)\n",
    "    fit <- lm(y ~ x, data = train)\n",
    "    y_hat <- predict(fit, test)\n",
    "    RMSE <- sqrt(mean((y_hat - test$y)^2))\n",
    "    RMSE})\n"
   ]
  },
  {
   "cell_type": "code",
   "execution_count": null,
   "metadata": {
    "_uuid": "a407c1a3f60116e7576527d2a86dab759ed30b32"
   },
   "outputs": [],
   "source": [
    "mean(b)\n",
    "sd(b)"
   ]
  },
  {
   "cell_type": "code",
   "execution_count": null,
   "metadata": {
    "_uuid": "fce320a0fb4115f25d72cc2a6b42823a4512847a"
   },
   "outputs": [],
   "source": [
    "packageVersion(\"dslabs\")"
   ]
  },
  {
   "cell_type": "code",
   "execution_count": null,
   "metadata": {
    "_uuid": "1415b3192bd6117eb33b8a0216d1db4478815b1e"
   },
   "outputs": [],
   "source": [
    "update.packages(\"dslabs\")"
   ]
  },
  {
   "cell_type": "code",
   "execution_count": null,
   "metadata": {
    "_uuid": "3f47bfa39ee024b9b77092643c2bf4160b3352b4"
   },
   "outputs": [],
   "source": [
    "c <- function(n){replicate(n,{\n",
    "    index <- createDataPartition(dat$y, times = 1, p = 0.5, list = FALSE)\n",
    "    train <- dat %>% slice(-index)\n",
    "    test <- dat %>% slice(index)\n",
    "    fit <- lm(y ~ x, data = train)\n",
    "    y_hat <- predict(fit, test)\n",
    "    RMSE <- sqrt(mean((y_hat - test$y)^2))\n",
    "    RMSE})\n",
    "h <- c(mean(b),sd(b))\n",
    "h}"
   ]
  },
  {
   "cell_type": "code",
   "execution_count": null,
   "metadata": {
    "_uuid": "2731403e07c0829069593140540d0e6af3fa7fb8"
   },
   "outputs": [],
   "source": [
    "N <- c(100,200,300)\n",
    "sapply(N,c)"
   ]
  },
  {
   "cell_type": "code",
   "execution_count": null,
   "metadata": {
    "_uuid": "02ad636b76930e98a16824d56f3178aab5c254f0"
   },
   "outputs": [],
   "source": [
    "x <- c(1, 5, 4, 9, 0)"
   ]
  },
  {
   "cell_type": "code",
   "execution_count": null,
   "metadata": {
    "_uuid": "9ed2ab8a2eeb29cbd60036208de049cfc694dd35"
   },
   "outputs": [],
   "source": [
    "x <- c(1,2,3,4)\n",
    "sapply(x,function(x) x*2)\n"
   ]
  },
  {
   "cell_type": "code",
   "execution_count": null,
   "metadata": {
    "_uuid": "3aee810b1163ea54d82eac658e224bd6d997ec18"
   },
   "outputs": [],
   "source": [
    "B <- 10000\n",
    "tallest <- replicate(B, {\n",
    "  simulated_data <- rnorm(800, avg, s)\n",
    "  max(simulated_data)\n",
    "})"
   ]
  },
  {
   "cell_type": "code",
   "execution_count": null,
   "metadata": {
    "_uuid": "d519423e913f649897d5bdf8e381c336311b021d"
   },
   "outputs": [],
   "source": [
    "gg <- c(1,2,3)"
   ]
  },
  {
   "cell_type": "code",
   "execution_count": null,
   "metadata": {
    "_uuid": "4afd032557adda345890a2b37e74348ded1df689"
   },
   "outputs": [],
   "source": [
    "sapply(1:3, function(x) x^2)"
   ]
  },
  {
   "cell_type": "code",
   "execution_count": null,
   "metadata": {
    "_uuid": "42b70c60386784016d9ecdb7e34de982f62d3e5e"
   },
   "outputs": [],
   "source": [
    "myvector <- 1:15\n",
    "a <- matrix(myvector,5,3)\n",
    "b <- matrix(myvector,5,3,byrow=TRUE)\n",
    "rowSums(a)\n",
    "rowMeans(a)\n",
    "colSums(a)\n",
    "colMeans(a)\n",
    "a"
   ]
  },
  {
   "cell_type": "code",
   "execution_count": null,
   "metadata": {
    "_uuid": "e800eea15948ca820525512013f46e2c155ee0e7"
   },
   "outputs": [],
   "source": []
  },
  {
   "cell_type": "code",
   "execution_count": null,
   "metadata": {
    "_uuid": "8243466354f89991f49e7641ef0224c9f52e93ca"
   },
   "outputs": [],
   "source": [
    "x <- matrix(rnorm(100*10), 5, 2)\n",
    "x"
   ]
  },
  {
   "cell_type": "code",
   "execution_count": null,
   "metadata": {
    "_uuid": "0f3a0d4b97424b01b838a7f8ebc7d78a17a19612"
   },
   "outputs": [],
   "source": [
    "seq(nrow(x)) \n",
    "1:nrow(x)\n",
    "sweep(x, 2, 1:nrow(x),\"+\")"
   ]
  },
  {
   "cell_type": "code",
   "execution_count": null,
   "metadata": {
    "_uuid": "1574764e439af9795dece8938eea88b8375aa304"
   },
   "outputs": [],
   "source": [
    "install.packages(\"pdftools\")"
   ]
  },
  {
   "cell_type": "code",
   "execution_count": null,
   "metadata": {
    "_uuid": "55de5bd16f7b0215e7779b2aab0efb37484f9020"
   },
   "outputs": [],
   "source": [
    "library(tidyverse)\n",
    "library(purrr)\n",
    "library(pdftools)\n",
    "    \n",
    "fn <- system.file(\"extdata\", \"RD-Mortality-Report_2015-18-180531.pdf\", package=\"dslabs\")\n",
    "dat <- map_df(str_split(pdf_text(fn), \"\\n\"), function(s){\n",
    "s <- str_trim(s)\n",
    "header_index <- str_which(s, \"2015\")[1]\n",
    "tmp <- str_split(s[header_index], \"\\\\s+\", simplify = TRUE)\n",
    "month <- tmp[1]\n",
    "header <- tmp[-1]\n",
    "tail_index  <- str_which(s, \"Total\")\n",
    "n <- str_count(s, \"\\\\d+\")\n",
    "out <- c(1:header_index, which(n==1), which(n>=28), tail_index:length(s))\n",
    "s[-out] %>%\n",
    "str_remove_all(\"[^\\\\d\\\\s]\") %>%\n",
    "str_trim() %>%\n",
    "str_split_fixed(\"\\\\s+\", n = 6) %>%\n",
    ".[,1:5] %>%\n",
    "as_data_frame() %>% \n",
    "setNames(c(\"day\", header)) %>%\n",
    "mutate(month = month,\n",
    "day = as.numeric(day)) %>%\n",
    "gather(year, deaths, -c(day, month)) %>%\n",
    "mutate(deaths = as.numeric(deaths))\n",
    "}) %>%\n",
    "mutate(month = recode(month, \"JAN\" = 1, \"FEB\" = 2, \"MAR\" = 3, \"APR\" = 4, \"MAY\" = 5, \"JUN\" = 6, \n",
    "                          \"JUL\" = 7, \"AGO\" = 8, \"SEP\" = 9, \"OCT\" = 10, \"NOV\" = 11, \"DEC\" = 12)) %>%\n",
    "mutate(date = make_date(year, month, day)) %>%\n",
    "filter(date <= \"2018-05-01\")"
   ]
  },
  {
   "cell_type": "code",
   "execution_count": null,
   "metadata": {
    "_uuid": "3360dd24f154352ebed44567ff8574d3d40df1fd"
   },
   "outputs": [],
   "source": [
    "library(dslabs)\n",
    "if(!exists(\"mnist\")) mnist <- read_mnist()\n"
   ]
  },
  {
   "cell_type": "code",
   "execution_count": null,
   "metadata": {
    "_uuid": "80f0133f3aa2e33c452ea8eeddd122fcbdcddb70"
   },
   "outputs": [],
   "source": [
    "class(mnist$train$images)"
   ]
  },
  {
   "cell_type": "code",
   "execution_count": null,
   "metadata": {
    "_uuid": "1cf933ccd8b1350e27b57b2c85a9cb14ed6a0690"
   },
   "outputs": [],
   "source": [
    "install.packages(\"dslabs\")\n",
    "system.file(\"extdata\", package=\"dslabs\")\n",
    "path <- system.file(\"extdata\", package=\"dslabs\")\n",
    "list.files(path)"
   ]
  },
  {
   "cell_type": "code",
   "execution_count": null,
   "metadata": {
    "_uuid": "f8b04611f79a210280f3a9d000a572e51f720602"
   },
   "outputs": [],
   "source": [
    "library(caret)\n",
    "library(dslabs)\n",
    "fit_glm <- glm(y ~ x_1 + x_2, data=mnist_27$train, family=\"binomial\")\n",
    "p_hat_logistic <- predict(fit_glm,mnist_27$test)\n",
    "y_hat_logistic <- factor(ifelse(p_hat_logistic>0.5,7,2))\n",
    "confusionMatrix(data = y_hat_logistic, reference=mnist_27$test$y)"
   ]
  }
 ],
 "metadata": {
  "kernelspec": {
   "display_name": "R",
   "language": "R",
   "name": "ir"
  },
  "language_info": {
   "codemirror_mode": "r",
   "file_extension": ".r",
   "mimetype": "text/x-r-source",
   "name": "R",
   "pygments_lexer": "r",
   "version": "3.4.2"
  }
 },
 "nbformat": 4,
 "nbformat_minor": 1
}
